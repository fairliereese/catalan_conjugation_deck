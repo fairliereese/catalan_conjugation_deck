{
 "cells": [
  {
   "cell_type": "code",
   "execution_count": 1,
   "id": "b9e7cda8-2170-408e-a5b5-c8c2a2bbd0d1",
   "metadata": {},
   "outputs": [],
   "source": [
    "import pandas as pd"
   ]
  },
  {
   "cell_type": "markdown",
   "id": "5835cbc5-13dc-4997-bb65-176fa7d1167b",
   "metadata": {},
   "source": [
    "## Figure out how to parse the different verb forms"
   ]
  },
  {
   "cell_type": "code",
   "execution_count": 19,
   "id": "493c1a2b-a60a-454b-9b74-2df86f72398d",
   "metadata": {},
   "outputs": [],
   "source": [
    "df = pd.read_csv('diccionari.txt',\n",
    "                 comment='#',\n",
    "                 sep=' ', header=None,\n",
    "                 names=['conj_verb', 'inf_verb', 'code'])"
   ]
  },
  {
   "cell_type": "code",
   "execution_count": 20,
   "id": "19a24212-64ad-4aa9-9d76-8f0b2cf4abd6",
   "metadata": {},
   "outputs": [],
   "source": [
    "# keep only verbal forms\n",
    "df = df.loc[df.code.str.startswith('VM')]"
   ]
  },
  {
   "cell_type": "code",
   "execution_count": 21,
   "id": "0f548276-eff1-44a6-8d5b-c19386eb632c",
   "metadata": {},
   "outputs": [
    {
     "data": {
      "text/html": [
       "<div>\n",
       "<style scoped>\n",
       "    .dataframe tbody tr th:only-of-type {\n",
       "        vertical-align: middle;\n",
       "    }\n",
       "\n",
       "    .dataframe tbody tr th {\n",
       "        vertical-align: top;\n",
       "    }\n",
       "\n",
       "    .dataframe thead th {\n",
       "        text-align: right;\n",
       "    }\n",
       "</style>\n",
       "<table border=\"1\" class=\"dataframe\">\n",
       "  <thead>\n",
       "    <tr style=\"text-align: right;\">\n",
       "      <th></th>\n",
       "      <th>conj_verb</th>\n",
       "      <th>inf_verb</th>\n",
       "      <th>code</th>\n",
       "    </tr>\n",
       "  </thead>\n",
       "  <tbody>\n",
       "    <tr>\n",
       "      <th>655777</th>\n",
       "      <td>fa</td>\n",
       "      <td>fer</td>\n",
       "      <td>VMIP3S00</td>\n",
       "    </tr>\n",
       "    <tr>\n",
       "      <th>656048</th>\n",
       "      <td>facem</td>\n",
       "      <td>fer</td>\n",
       "      <td>VMM01P0B</td>\n",
       "    </tr>\n",
       "    <tr>\n",
       "      <th>656049</th>\n",
       "      <td>facem</td>\n",
       "      <td>fer</td>\n",
       "      <td>VMSP1P0B</td>\n",
       "    </tr>\n",
       "    <tr>\n",
       "      <th>656050</th>\n",
       "      <td>facen</td>\n",
       "      <td>fer</td>\n",
       "      <td>VMM03P0V</td>\n",
       "    </tr>\n",
       "    <tr>\n",
       "      <th>656051</th>\n",
       "      <td>facen</td>\n",
       "      <td>fer</td>\n",
       "      <td>VMSP3P0V</td>\n",
       "    </tr>\n",
       "  </tbody>\n",
       "</table>\n",
       "</div>"
      ],
      "text/plain": [
       "       conj_verb inf_verb      code\n",
       "655777        fa      fer  VMIP3S00\n",
       "656048     facem      fer  VMM01P0B\n",
       "656049     facem      fer  VMSP1P0B\n",
       "656050     facen      fer  VMM03P0V\n",
       "656051     facen      fer  VMSP3P0V"
      ]
     },
     "execution_count": 21,
     "metadata": {},
     "output_type": "execute_result"
    }
   ],
   "source": [
    "# try just fer for now\n",
    "df = df.loc[df.inf_verb=='fer']\n",
    "df.head()"
   ]
  },
  {
   "cell_type": "code",
   "execution_count": 22,
   "id": "d2cb0ed6-298b-43ec-b40b-04e76b923874",
   "metadata": {},
   "outputs": [],
   "source": [
    "# region\n",
    "df['region'] = 'central'\n",
    "df.loc[df.code.str.endswith('B'), 'region'] = 'balear'\n",
    "df.loc[df.code.str.endswith('V'), 'region'] = 'valencia'"
   ]
  },
  {
   "cell_type": "code",
   "execution_count": 23,
   "id": "d12e429d-2253-435d-a1d5-c0a7015eb225",
   "metadata": {},
   "outputs": [],
   "source": [
    "# mood\n",
    "# I = indicative\n",
    "# M = imperative\n",
    "# P = participle\n",
    "# G = gerund\n",
    "# N = infinitive\n",
    "# S = subjunctive\n",
    "\n",
    "df['mood'] = df.code.str.split('VM', expand=True)[1].str.slice(0,1)"
   ]
  },
  {
   "cell_type": "code",
   "execution_count": 24,
   "id": "2878c06f-5e52-4710-b188-7816f09f1c87",
   "metadata": {},
   "outputs": [],
   "source": [
    "# gender for participles\n",
    "df['gender'] = df.code.str.split('VM', expand=True)[1].str.slice(4,5)"
   ]
  },
  {
   "cell_type": "code",
   "execution_count": 25,
   "id": "593f87f6-041f-4557-99cf-bb3ffe70a722",
   "metadata": {},
   "outputs": [],
   "source": [
    "# tense\n",
    "# P = present\n",
    "# I = past imperfect\n",
    "# F = future\n",
    "# S = simple past\n",
    "# C = conditional\n",
    "df['tense'] = df.code.str.split('VM', expand=True)[1].str.slice(1,2)"
   ]
  },
  {
   "cell_type": "code",
   "execution_count": 26,
   "id": "83e953ff-a311-4f28-92e9-cad6565404fa",
   "metadata": {},
   "outputs": [],
   "source": [
    "# person (1st 2nd 3rd)\n",
    "df['person'] = df.code.str.split('VM', expand=True)[1].str.slice(2,3)"
   ]
  },
  {
   "cell_type": "code",
   "execution_count": 27,
   "id": "d93960c5-cafe-484c-b51c-4e4660aef66e",
   "metadata": {},
   "outputs": [
    {
     "data": {
      "text/plain": [
       "array(['S', 'P', '0'], dtype=object)"
      ]
     },
     "execution_count": 27,
     "metadata": {},
     "output_type": "execute_result"
    }
   ],
   "source": [
    "# singular or plural\n",
    "df['sing_or_plural'] = df.code.str.split('VM', expand=True)[1].str.slice(3,4)\n",
    "df.sing_or_plural.unique()"
   ]
  },
  {
   "cell_type": "code",
   "execution_count": 28,
   "id": "d2880ba6-ed13-4474-9706-4404649a3815",
   "metadata": {},
   "outputs": [],
   "source": [
    "# keep only central forms\n",
    "df = df.loc[df.region == 'central']\n",
    "\n",
    "# remove passat simple \n",
    "df = df.loc[df.tense != 'S']"
   ]
  },
  {
   "cell_type": "code",
   "execution_count": 29,
   "id": "51f55350-d217-4eee-8ac8-86e0d4991521",
   "metadata": {},
   "outputs": [],
   "source": [
    "# add perfet, passat perifrastic, negative command"
   ]
  },
  {
   "cell_type": "code",
   "execution_count": 30,
   "id": "d6ba94c3-13fa-4dad-ae98-dffb56b315ff",
   "metadata": {},
   "outputs": [],
   "source": [
    "# perfet\n",
    "haver = [['he', '1', 'S', 'I', 'perfet'],\n",
    "         ['has', '2', 'S', 'I', 'perfet'],\n",
    "         ['ha', '3', 'S', 'I', 'perfet'],\n",
    "         ['hem', '1', 'P', 'I', 'perfet'],\n",
    "         ['heu', '2', 'P', 'I', 'perfet'],\n",
    "         ['han', '3', 'P', 'I', 'perfet']]\n",
    "haver_df = pd.DataFrame(data=haver,\n",
    "                        columns=['haver_verb',\n",
    "                                 'person', \n",
    "                                 'sing_or_plural', \n",
    "                                 'mood',\n",
    "                                 'tense'])\n",
    "infinitive = df.loc[(df.mood=='N')].conj_verb.values[0]\n",
    "participle = df.loc[(df.mood=='P')&\\\n",
    "                    (df.gender=='M')&\\\n",
    "                    (df.sing_or_plural=='S')].conj_verb.values[0]\n",
    "haver_df['conj_verb'] = haver_df.haver_verb+' '+participle\n",
    "haver_df['inf_verb'] = infinitive\n",
    "df = pd.concat([df, haver_df], axis=0)"
   ]
  },
  {
   "cell_type": "code",
   "execution_count": 31,
   "id": "f6e7608c-9511-443a-9642-51a6c94d1bba",
   "metadata": {},
   "outputs": [],
   "source": [
    "# passat perifrastic\n",
    "anar = [['vaig', '1', 'S', 'I', 'passat_perifrastic'],\n",
    "         ['vas', '2', 'S', 'I', 'passat_perifrastic'],\n",
    "         ['va', '3', 'S', 'I', 'passat_perifrastic'],\n",
    "         ['vam', '1', 'P', 'I', 'passat_perifrastic'],\n",
    "         ['vau', '2', 'P', 'I', 'passat_perifrastic'],\n",
    "         ['van', '3', 'P', 'I', 'passat_perifrastic']]\n",
    "anar_df = pd.DataFrame(data=anar,\n",
    "                        columns=['anar_verb',\n",
    "                                 'person', \n",
    "                                 'sing_or_plural', \n",
    "                                 'mood',\n",
    "                                 'tense'])\n",
    "infinitive = df.loc[(df.mood=='N')].conj_verb.values[0]\n",
    "anar_df['conj_verb'] = anar_df.anar_verb+' '+infinitive\n",
    "anar_df['inf_verb'] = infinitive\n",
    "df = pd.concat([df, anar_df], axis=0)"
   ]
  },
  {
   "cell_type": "code",
   "execution_count": 32,
   "id": "b0cd09b8-64f8-44b2-bd3e-44635701651c",
   "metadata": {},
   "outputs": [
    {
     "name": "stderr",
     "output_type": "stream",
     "text": [
      "/Users/fairliereese/miniconda3/lib/python3.7/site-packages/ipykernel_launcher.py:3: SettingWithCopyWarning: \n",
      "A value is trying to be set on a copy of a slice from a DataFrame.\n",
      "Try using .loc[row_indexer,col_indexer] = value instead\n",
      "\n",
      "See the caveats in the documentation: https://pandas.pydata.org/pandas-docs/stable/user_guide/indexing.html#returning-a-view-versus-a-copy\n",
      "  This is separate from the ipykernel package so we can avoid doing imports until\n",
      "/Users/fairliereese/miniconda3/lib/python3.7/site-packages/ipykernel_launcher.py:4: SettingWithCopyWarning: \n",
      "A value is trying to be set on a copy of a slice from a DataFrame.\n",
      "Try using .loc[row_indexer,col_indexer] = value instead\n",
      "\n",
      "See the caveats in the documentation: https://pandas.pydata.org/pandas-docs/stable/user_guide/indexing.html#returning-a-view-versus-a-copy\n",
      "  after removing the cwd from sys.path.\n",
      "/Users/fairliereese/miniconda3/lib/python3.7/site-packages/ipykernel_launcher.py:5: SettingWithCopyWarning: \n",
      "A value is trying to be set on a copy of a slice from a DataFrame.\n",
      "Try using .loc[row_indexer,col_indexer] = value instead\n",
      "\n",
      "See the caveats in the documentation: https://pandas.pydata.org/pandas-docs/stable/user_guide/indexing.html#returning-a-view-versus-a-copy\n",
      "  \"\"\"\n"
     ]
    }
   ],
   "source": [
    "# negative command -- just the subjunctive present\n",
    "neg_cmd_df = df.loc[(df.mood=='S')&(df.tense=='P')]\n",
    "neg_cmd_df['pos_neg_cmd'] = 'neg'\n",
    "neg_cmd_df['mood'] = 'M'\n",
    "neg_cmd_df['tense'] = '0'\n",
    "\n",
    "# add positive / neg designations for commands\n",
    "df['pos_neg_cmd'] = '0'\n",
    "df.loc[df.mood=='M', 'pos_neg_cmd'] = 'pos'\n",
    "\n",
    "# now add \n",
    "df = pd.concat([df, neg_cmd_df], axis=0)"
   ]
  },
  {
   "cell_type": "code",
   "execution_count": 33,
   "id": "16ba8140-1e71-461b-94f1-98e74888a2ef",
   "metadata": {},
   "outputs": [],
   "source": [
    "# other synthetic tenses?\n",
    "# plusquamperfet, passat anterior, passat anterior preifrastic, \n",
    "# futur perfet... etc."
   ]
  },
  {
   "cell_type": "code",
   "execution_count": 34,
   "id": "492d6075-1e48-42fe-9d65-975b8d5543d7",
   "metadata": {},
   "outputs": [
    {
     "data": {
      "text/html": [
       "<div>\n",
       "<style scoped>\n",
       "    .dataframe tbody tr th:only-of-type {\n",
       "        vertical-align: middle;\n",
       "    }\n",
       "\n",
       "    .dataframe tbody tr th {\n",
       "        vertical-align: top;\n",
       "    }\n",
       "\n",
       "    .dataframe thead th {\n",
       "        text-align: right;\n",
       "    }\n",
       "</style>\n",
       "<table border=\"1\" class=\"dataframe\">\n",
       "  <thead>\n",
       "    <tr style=\"text-align: right;\">\n",
       "      <th></th>\n",
       "      <th>conj_verb</th>\n",
       "      <th>inf_verb</th>\n",
       "      <th>code</th>\n",
       "      <th>region</th>\n",
       "      <th>mood</th>\n",
       "      <th>gender</th>\n",
       "      <th>tense</th>\n",
       "      <th>person</th>\n",
       "      <th>sing_or_plural</th>\n",
       "      <th>haver_verb</th>\n",
       "      <th>anar_verb</th>\n",
       "      <th>pos_neg_cmd</th>\n",
       "    </tr>\n",
       "  </thead>\n",
       "  <tbody>\n",
       "    <tr>\n",
       "      <th>663519</th>\n",
       "      <td>fem</td>\n",
       "      <td>fer</td>\n",
       "      <td>VMSP1P00</td>\n",
       "      <td>central</td>\n",
       "      <td>S</td>\n",
       "      <td>0</td>\n",
       "      <td>P</td>\n",
       "      <td>1</td>\n",
       "      <td>P</td>\n",
       "      <td>NaN</td>\n",
       "      <td>NaN</td>\n",
       "      <td>0</td>\n",
       "    </tr>\n",
       "    <tr>\n",
       "      <th>656143</th>\n",
       "      <td>faci</td>\n",
       "      <td>fer</td>\n",
       "      <td>VMSP1S0Y</td>\n",
       "      <td>central</td>\n",
       "      <td>S</td>\n",
       "      <td>0</td>\n",
       "      <td>P</td>\n",
       "      <td>1</td>\n",
       "      <td>S</td>\n",
       "      <td>NaN</td>\n",
       "      <td>NaN</td>\n",
       "      <td>0</td>\n",
       "    </tr>\n",
       "    <tr>\n",
       "      <th>666836</th>\n",
       "      <td>feu</td>\n",
       "      <td>fer</td>\n",
       "      <td>VMSP2P00</td>\n",
       "      <td>central</td>\n",
       "      <td>S</td>\n",
       "      <td>0</td>\n",
       "      <td>P</td>\n",
       "      <td>2</td>\n",
       "      <td>P</td>\n",
       "      <td>NaN</td>\n",
       "      <td>NaN</td>\n",
       "      <td>0</td>\n",
       "    </tr>\n",
       "    <tr>\n",
       "      <th>656280</th>\n",
       "      <td>facis</td>\n",
       "      <td>fer</td>\n",
       "      <td>VMSP2S0Y</td>\n",
       "      <td>central</td>\n",
       "      <td>S</td>\n",
       "      <td>0</td>\n",
       "      <td>P</td>\n",
       "      <td>2</td>\n",
       "      <td>S</td>\n",
       "      <td>NaN</td>\n",
       "      <td>NaN</td>\n",
       "      <td>0</td>\n",
       "    </tr>\n",
       "    <tr>\n",
       "      <th>656253</th>\n",
       "      <td>facin</td>\n",
       "      <td>fer</td>\n",
       "      <td>VMSP3P0Y</td>\n",
       "      <td>central</td>\n",
       "      <td>S</td>\n",
       "      <td>0</td>\n",
       "      <td>P</td>\n",
       "      <td>3</td>\n",
       "      <td>P</td>\n",
       "      <td>NaN</td>\n",
       "      <td>NaN</td>\n",
       "      <td>0</td>\n",
       "    </tr>\n",
       "    <tr>\n",
       "      <th>656144</th>\n",
       "      <td>faci</td>\n",
       "      <td>fer</td>\n",
       "      <td>VMSP3S0Y</td>\n",
       "      <td>central</td>\n",
       "      <td>S</td>\n",
       "      <td>0</td>\n",
       "      <td>P</td>\n",
       "      <td>3</td>\n",
       "      <td>S</td>\n",
       "      <td>NaN</td>\n",
       "      <td>NaN</td>\n",
       "      <td>0</td>\n",
       "    </tr>\n",
       "  </tbody>\n",
       "</table>\n",
       "</div>"
      ],
      "text/plain": [
       "       conj_verb inf_verb      code   region mood gender tense person  \\\n",
       "663519       fem      fer  VMSP1P00  central    S      0     P      1   \n",
       "656143      faci      fer  VMSP1S0Y  central    S      0     P      1   \n",
       "666836       feu      fer  VMSP2P00  central    S      0     P      2   \n",
       "656280     facis      fer  VMSP2S0Y  central    S      0     P      2   \n",
       "656253     facin      fer  VMSP3P0Y  central    S      0     P      3   \n",
       "656144      faci      fer  VMSP3S0Y  central    S      0     P      3   \n",
       "\n",
       "       sing_or_plural haver_verb anar_verb pos_neg_cmd  \n",
       "663519              P        NaN       NaN           0  \n",
       "656143              S        NaN       NaN           0  \n",
       "666836              P        NaN       NaN           0  \n",
       "656280              S        NaN       NaN           0  \n",
       "656253              P        NaN       NaN           0  \n",
       "656144              S        NaN       NaN           0  "
      ]
     },
     "execution_count": 34,
     "metadata": {},
     "output_type": "execute_result"
    }
   ],
   "source": [
    "df.loc[(df.mood=='S')&(df.tense=='P')].sort_values(by=['mood', 'person', 'tense', 'sing_or_plural'])"
   ]
  },
  {
   "cell_type": "code",
   "execution_count": 35,
   "id": "06c4848f-4c0c-4b1d-a2a8-b26c7595c7c3",
   "metadata": {},
   "outputs": [],
   "source": [
    "df.to_csv('fer_parsed.tsv', sep='\\t', index=False)\n"
   ]
  },
  {
   "cell_type": "code",
   "execution_count": null,
   "id": "5148ce0b-7de5-4263-a904-16b8d18f0eff",
   "metadata": {},
   "outputs": [],
   "source": []
  },
  {
   "cell_type": "code",
   "execution_count": null,
   "id": "6f50292f-e066-4b7e-a235-427095434924",
   "metadata": {},
   "outputs": [],
   "source": []
  },
  {
   "cell_type": "code",
   "execution_count": null,
   "id": "7f12da09-11b1-4a99-a00e-c5aab7d68787",
   "metadata": {},
   "outputs": [],
   "source": []
  },
  {
   "cell_type": "code",
   "execution_count": null,
   "id": "a441ac0e-1064-485d-8e9d-4d52fedf7751",
   "metadata": {},
   "outputs": [],
   "source": []
  },
  {
   "cell_type": "code",
   "execution_count": null,
   "id": "f3bd53a5-ee0d-4b76-8de5-e9f84a47d662",
   "metadata": {},
   "outputs": [],
   "source": []
  },
  {
   "cell_type": "code",
   "execution_count": null,
   "id": "9134ded9-436b-455f-846b-3f660d5c2696",
   "metadata": {},
   "outputs": [],
   "source": []
  }
 ],
 "metadata": {
  "kernelspec": {
   "display_name": "Python 3",
   "language": "python",
   "name": "python3"
  },
  "language_info": {
   "codemirror_mode": {
    "name": "ipython",
    "version": 3
   },
   "file_extension": ".py",
   "mimetype": "text/x-python",
   "name": "python",
   "nbconvert_exporter": "python",
   "pygments_lexer": "ipython3",
   "version": "3.7.12"
  }
 },
 "nbformat": 4,
 "nbformat_minor": 5
}
