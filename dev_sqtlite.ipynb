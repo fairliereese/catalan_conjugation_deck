{
 "cells": [
  {
   "cell_type": "code",
   "execution_count": 1,
   "id": "2aa31a10-93b7-4652-8a07-e86c0609651c",
   "metadata": {},
   "outputs": [],
   "source": [
    "import sqlite3\n",
    "import pandas as pd"
   ]
  },
  {
   "cell_type": "code",
   "execution_count": 2,
   "id": "3c88ce8e-a776-4dd9-b549-09a6f99039d7",
   "metadata": {},
   "outputs": [],
   "source": [
    "conn = sqlite3.connect('collection.anki21')\n",
    "cursor = conn.cursor()"
   ]
  },
  {
   "cell_type": "markdown",
   "id": "7454d65a-5091-43e8-8ab2-afa01bcbff81",
   "metadata": {},
   "source": [
    "## Get the different prompts"
   ]
  },
  {
   "cell_type": "code",
   "execution_count": 3,
   "id": "b4ec0437-11e8-4074-8282-dfefd6648554",
   "metadata": {},
   "outputs": [],
   "source": [
    "# spanish <-> catalan verbs\n",
    "cat_sp_df = pd.read_csv('spanish_to_catalan_verbs.csv', sep=',',\n",
    "                        encoding='utf-8')\n",
    "cat_sp_df = cat_sp_df[['spanish_verb', 'catalan_verb']]\n",
    "cat_sp_df.rename({'catalan_verb': 'inf_verb'}, axis=1, inplace=True)"
   ]
  },
  {
   "cell_type": "code",
   "execution_count": 4,
   "id": "16d1aafc-a258-4e6c-b8ca-97ecd4a6de0f",
   "metadata": {},
   "outputs": [
    {
     "data": {
      "text/html": [
       "<div>\n",
       "<style scoped>\n",
       "    .dataframe tbody tr th:only-of-type {\n",
       "        vertical-align: middle;\n",
       "    }\n",
       "\n",
       "    .dataframe tbody tr th {\n",
       "        vertical-align: top;\n",
       "    }\n",
       "\n",
       "    .dataframe thead th {\n",
       "        text-align: right;\n",
       "    }\n",
       "</style>\n",
       "<table border=\"1\" class=\"dataframe\">\n",
       "  <thead>\n",
       "    <tr style=\"text-align: right;\">\n",
       "      <th></th>\n",
       "      <th>spanish_verb</th>\n",
       "      <th>inf_verb</th>\n",
       "    </tr>\n",
       "  </thead>\n",
       "  <tbody>\n",
       "    <tr>\n",
       "      <th>61</th>\n",
       "      <td>delinquir</td>\n",
       "      <td>delinquir</td>\n",
       "    </tr>\n",
       "    <tr>\n",
       "      <th>62</th>\n",
       "      <td>reír</td>\n",
       "      <td>riure</td>\n",
       "    </tr>\n",
       "    <tr>\n",
       "      <th>63</th>\n",
       "      <td>corroer</td>\n",
       "      <td>corroure</td>\n",
       "    </tr>\n",
       "    <tr>\n",
       "      <th>64</th>\n",
       "      <td>raer</td>\n",
       "      <td>raer</td>\n",
       "    </tr>\n",
       "    <tr>\n",
       "      <th>65</th>\n",
       "      <td>europeizar</td>\n",
       "      <td>europeïtzar</td>\n",
       "    </tr>\n",
       "  </tbody>\n",
       "</table>\n",
       "</div>"
      ],
      "text/plain": [
       "   spanish_verb     inf_verb\n",
       "61    delinquir    delinquir\n",
       "62         reír        riure\n",
       "63      corroer     corroure\n",
       "64         raer         raer\n",
       "65   europeizar  europeïtzar"
      ]
     },
     "execution_count": 4,
     "metadata": {},
     "output_type": "execute_result"
    }
   ],
   "source": [
    "cat_sp_df.tail()"
   ]
  },
  {
   "cell_type": "code",
   "execution_count": 5,
   "id": "92a1db67-0e74-4636-81a5-a3256732dcb1",
   "metadata": {},
   "outputs": [],
   "source": [
    "# get the tags and notes for each card\n",
    "cursor.execute(\"SELECT sfld, tags FROM notes\")\n",
    "rows = cursor.fetchall()\n",
    "notes = []\n",
    "tags = []\n",
    "intro_phrases = [\"El verbo en\",\n",
    "                 \"Before\",\n",
    "                 \"During\",\n",
    "                 \"Grammar\",\n",
    "                 \"For \", \n",
    "                 \"I hesitated\",\n",
    "                 \"If you see\"]\n",
    "for row in rows:\n",
    "    if row[0].startswith(intro_phrases[0]): pass\n",
    "    elif row[0].startswith(intro_phrases[1]): pass\n",
    "    elif row[0].startswith(intro_phrases[2]): pass\n",
    "    elif row[0].startswith(intro_phrases[3]): pass\n",
    "    elif row[0].startswith(intro_phrases[4]): pass\n",
    "    elif row[0].startswith(intro_phrases[5]): pass\n",
    "    elif row[0].startswith(intro_phrases[6]): pass\n",
    "    else:\n",
    "        notes.append(row[0])\n",
    "        tags.append(row[1])"
   ]
  },
  {
   "cell_type": "code",
   "execution_count": 6,
   "id": "8d1d14e3-e96a-4e34-b3c4-98a9d5887761",
   "metadata": {},
   "outputs": [],
   "source": [
    "# make into a df\n",
    "df = pd.DataFrame(data=notes,\n",
    "                  columns=['note'])\n",
    "df['tags'] = tags\n",
    "\n",
    "# get the base verb and add catalan equivalent\n",
    "# (inner merge to get rid of verbs I didn't add equivalents for)\n",
    "df['spanish_verb'] = df['note'].str.split('::…', expand=True)[1].str.split('…}}', expand=True)[0]\n",
    "df = df.merge(cat_sp_df,\n",
    "              how='inner',\n",
    "              on='spanish_verb')"
   ]
  },
  {
   "cell_type": "code",
   "execution_count": 7,
   "id": "84d75f58-b43a-4d13-af5e-720fb84694a4",
   "metadata": {},
   "outputs": [
    {
     "name": "stdout",
     "output_type": "stream",
     "text": [
      "3761\n",
      "2991\n"
     ]
    }
   ],
   "source": [
    "# get rid of tú_vos\n",
    "print(len(df.index))\n",
    "df = df.loc[~df.tags.str.contains(' tú_vos ')]\n",
    "print(len(df.index))"
   ]
  },
  {
   "cell_type": "code",
   "execution_count": 8,
   "id": "d0c74fe0-3bea-416c-9ae8-9c8cdd4d1053",
   "metadata": {},
   "outputs": [
    {
     "name": "stdout",
     "output_type": "stream",
     "text": [
      "2991\n",
      "2666\n"
     ]
    }
   ],
   "source": [
    "# get rid of subjunctive future\n",
    "print(len(df.index))\n",
    "df = df.loc[~df.tags.str.contains(' subjuntivo_futuro ')]\n",
    "print(len(df.index))"
   ]
  },
  {
   "cell_type": "code",
   "execution_count": 9,
   "id": "72bf886c-bacd-4c10-b6b7-f204aba4f9d1",
   "metadata": {},
   "outputs": [],
   "source": [
    "# tags I care about that I can merge on \n",
    "\n",
    "# 1, 2, 3rd person\n",
    "person_map = {'yo': '1',\n",
    "              'tú': '2',\n",
    "              'él_ella_usted': '3',\n",
    "              'nosotros': '1',\n",
    "              'vosotros': '2',\n",
    "              'ellos_ellas_ustedes': '3'}\n",
    "df['person'] = '0'\n",
    "for key, item in person_map.items():\n",
    "    thing = ' '+key+' '\n",
    "    df.loc[df.tags.str.contains(thing), 'person'] = person_map[key]\n",
    "    \n",
    "# singular or plural\n",
    "sing_or_plural_map = {'yo': 'S',\n",
    "              'tú': 'S',\n",
    "              'él_ella_usted': 'S',\n",
    "              'nosotros': 'P',\n",
    "              'vosotros': 'P',\n",
    "              'ellos_ellas_ustedes': 'P'}\n",
    "df['sing_or_plural'] = '0'\n",
    "for key, item in sing_or_plural_map.items():\n",
    "    thing = ' '+key+' '\n",
    "    df.loc[df.tags.str.contains(thing), 'sing_or_plural'] = sing_or_plural_map[key]\n",
    "df.loc[df.tags.str.contains(' participio '), 'sing_or_plural'] = 'S'\n",
    "\n",
    "# mood\n",
    "mood_map = {'presente': 'I',\n",
    "           'imperfecto': 'I',\n",
    "           'indefinido': 'I',\n",
    "           'futuro': 'I',\n",
    "           'condicional': 'I',\n",
    "           'subjuntivo_presente': 'S',\n",
    "           'subjuntivo_pasado': 'S',\n",
    "           'imperativo': 'M',\n",
    "           'negative_imperativo': 'M',\n",
    "           'gerundio': 'G',\n",
    "           'participio': 'P'}\n",
    "df['mood'] = '0'\n",
    "for key, item in mood_map.items():\n",
    "    thing = ' '+key+' '\n",
    "    df.loc[df.tags.str.contains(thing), 'mood'] = mood_map[key]\n",
    "\n",
    "# tense\n",
    "tense_map = {'presente': 'P',\n",
    "           'imperfecto': 'I',\n",
    "           'indefinido': 'passat_perifrastic',\n",
    "           'futuro': 'F',\n",
    "           'condicional': 'C',\n",
    "           'subjuntivo_presente': 'P',\n",
    "           'subjuntivo_pasado': 'I'}\n",
    "df['tense'] = '0'\n",
    "for key, item in tense_map.items():\n",
    "    thing = ' '+key+' '\n",
    "    df.loc[df.tags.str.contains(thing), 'tense'] = tense_map[key]\n",
    "\n",
    "# pos_neg_cmd\n",
    "pos_neg_map = {'imperativo': 'pos',\n",
    "               'negative_imperativo': 'neg'}\n",
    "df['pos_neg_cmd'] = '0'\n",
    "for key, item in pos_neg_map.items():\n",
    "    thing = ' '+key+' '\n",
    "    df.loc[df.tags.str.contains(thing), 'pos_neg_cmd'] = pos_neg_map[key]"
   ]
  },
  {
   "cell_type": "code",
   "execution_count": 10,
   "id": "30ff4a27-d97b-4516-b118-5c1ec06c934d",
   "metadata": {},
   "outputs": [],
   "source": [
    "# TODO add a version of the past using \"ahir\" \n",
    "# for the passat simple (ie he anat)"
   ]
  },
  {
   "cell_type": "code",
   "execution_count": 11,
   "id": "e6a5766a-e1a2-40bd-bbe7-fd10dd25328b",
   "metadata": {},
   "outputs": [],
   "source": [
    "## TODO -- add neg. commands for everything by just sticking a no everywhere in the pos. cmds"
   ]
  },
  {
   "cell_type": "code",
   "execution_count": 12,
   "id": "480241f9-5a00-48f4-8092-4367663b41e3",
   "metadata": {},
   "outputs": [],
   "source": [
    "# # split the note up so I can translate and replace shit\n",
    "# # by the different tense / mood combos\n",
    "# split_dict = {'gerundio': ['Mientras estoy estudiando…', 2],\n",
    "#                   'participio': ['Hugo ha', 1]}\n",
    "#               # 'presente': ['⊙ Ahora mismo, ⊙', 1],\n",
    "#               # 'imperfecto': ['⇠ En esa época, a menudo, ⇠', 1],\n",
    "#               # 'indefinido': ['↧ En aquel momento ↧', 1],\n",
    "#               # 'futuro': ['→ En el futuro, →', 1],\n",
    "#               # 'condicional': ['…', 2],\n",
    "#               # 'subjuntivo_presente': ['〰 Resulta divertido que 〰', 1],\n",
    "#               # 'subjuntivo_pasado': ['↫ Fue sorprendente que ↫', 1],\n",
    "#               # 'imperativo': ['¡', 1]}\n",
    "# # tag:negative_imperativo}\n",
    "# df['note1'] = ''\n",
    "# for key, item in split_dict.items():\n",
    "#     split_phrase = item[0]\n",
    "#     split_num = item[1]-1\n",
    "#     print(df.loc[df.tags.str.contains(' '+key+' ')].note.str.split(split_phrase,\n",
    "#                                                                     expand=True))\n",
    "#     # df.loc[df.tags.str.contains(' '+key+' '), 'note1'] = df.loc[df.tags.str.contains(' '+key+' ')].note.str.split(split_phrase,\n",
    "#     #                                                                 expand=True)[split_num]"
   ]
  },
  {
   "cell_type": "code",
   "execution_count": 13,
   "id": "b9729127-08c6-4d27-9ba8-d9d2ec73b8a8",
   "metadata": {},
   "outputs": [],
   "source": [
    "# context phrases to translate\n",
    "df['context_phrase' ] = df.note.str.split('(', expand=True)[1].str.split(')', expand=True)[0]\n",
    "temp = pd.DataFrame(data=df.context_phrase.unique().tolist(), columns=['spanish_phrase'])\n",
    "temp.to_csv('spanish_context_phrases.tsv', sep='\\t', index=False)"
   ]
  },
  {
   "cell_type": "code",
   "execution_count": 14,
   "id": "bc641198-7ba8-4058-abdf-516507b6d894",
   "metadata": {},
   "outputs": [
    {
     "name": "stderr",
     "output_type": "stream",
     "text": [
      "/Users/fairliereese/miniconda3/lib/python3.7/site-packages/ipykernel_launcher.py:3: SettingWithCopyWarning: \n",
      "A value is trying to be set on a copy of a slice from a DataFrame.\n",
      "Try using .loc[row_indexer,col_indexer] = value instead\n",
      "\n",
      "See the caveats in the documentation: https://pandas.pydata.org/pandas-docs/stable/user_guide/indexing.html#returning-a-view-versus-a-copy\n",
      "  This is separate from the ipykernel package so we can avoid doing imports until\n"
     ]
    },
    {
     "data": {
      "text/plain": [
       "array([' Si ocurriese esto, ', ' Si acaeciera algo, ',\n",
       "       ' Si pasara algo, ', ' Si aconteciese esto, ',\n",
       "       ' Si se produjera esto, '], dtype=object)"
      ]
     },
     "execution_count": 14,
     "metadata": {},
     "output_type": "execute_result"
    }
   ],
   "source": [
    "# condicional phrases to translate\n",
    "temp = df.loc[df.tense=='C']\n",
    "temp['spanish_phrase'] = temp.note.str.split('…', expand=True)[1]\n",
    "temp.spanish_phrase.unique()"
   ]
  },
  {
   "cell_type": "code",
   "execution_count": 15,
   "id": "d62fb65c-7ae8-403a-9f5f-ab6367290936",
   "metadata": {},
   "outputs": [
    {
     "name": "stderr",
     "output_type": "stream",
     "text": [
      "/Users/fairliereese/miniconda3/lib/python3.7/site-packages/ipykernel_launcher.py:3: SettingWithCopyWarning: \n",
      "A value is trying to be set on a copy of a slice from a DataFrame.\n",
      "Try using .loc[row_indexer,col_indexer] = value instead\n",
      "\n",
      "See the caveats in the documentation: https://pandas.pydata.org/pandas-docs/stable/user_guide/indexing.html#returning-a-view-versus-a-copy\n",
      "  This is separate from the ipykernel package so we can avoid doing imports until\n"
     ]
    },
    {
     "data": {
      "text/plain": [
       "array(['Señora, por favor', 'Vámonos equipo, por favor',\n",
       "       'Tú y tú, por favor', 'Señores, por favor',\n",
       "       '—No le alcanza para reembolsar el préstamo.—Pues, ¡ {{c1::deba::…deber…}} el monto, y ya está !(él/ella/usted)',\n",
       "       '—No nos alcanza para devolver el dinero.—Pues, ¡ {{c1::debamos::…deber…}} el monto, y ya está !(nosotros)',\n",
       "       '—No nos alcanza para restituir la fianza.—Pues, ¡ {{c1::debed::…deber…}} el monto, y ya está !(vosotros)',\n",
       "       '—No les alcanza para abonar el tratamiento.—Pues, ¡ {{c1::deban::…deber…}} el monto, y ya está !(ellos/ellas/ustedes)'],\n",
       "      dtype=object)"
      ]
     },
     "execution_count": 15,
     "metadata": {},
     "output_type": "execute_result"
    }
   ],
   "source": [
    "# imperative phrases to translate\n",
    "temp = df.loc[df.mood=='M']\n",
    "temp['spanish_phrase'] = temp.note.str.split(',¡', expand=True)[0]\n",
    "temp.spanish_phrase.unique()"
   ]
  },
  {
   "cell_type": "code",
   "execution_count": 16,
   "id": "30f3af6a-cef2-4649-a66a-2f25c28f665b",
   "metadata": {},
   "outputs": [],
   "source": [
    "# translated spanish to cat. phrases to stick on the cards\n",
    "trans_df = pd.read_csv('spanish_catalan_context_phrases.csv', sep=',',\n",
    "                        encoding='utf-8')"
   ]
  },
  {
   "cell_type": "code",
   "execution_count": 17,
   "id": "3b803c92-fca3-4bdf-a623-21200c6eb770",
   "metadata": {},
   "outputs": [
    {
     "name": "stderr",
     "output_type": "stream",
     "text": [
      "/Users/fairliereese/miniconda3/lib/python3.7/site-packages/ipykernel_launcher.py:5: FutureWarning: The default value of regex will change from True to False in a future version.\n",
      "  \"\"\"\n"
     ]
    }
   ],
   "source": [
    "# replace all translated df stuff w/ catalan\n",
    "for ind, entry in trans_df.iterrows():\n",
    "    sp = entry.spanish_phrase\n",
    "    ca = entry.catalan_phrase\n",
    "    df.note = df.note.str.replace(sp, ca)"
   ]
  },
  {
   "cell_type": "code",
   "execution_count": 18,
   "id": "3cc01f9d-dd4b-44ed-bc49-b71330ea99d9",
   "metadata": {},
   "outputs": [],
   "source": [
    "merge_cols = ['inf_verb', 'mood', 'tense', 'person',\n",
    "              'sing_or_plural', 'pos_neg_cmd']"
   ]
  },
  {
   "cell_type": "code",
   "execution_count": 19,
   "id": "5f8e6a51-bf33-4f19-b705-c86ae119d7a2",
   "metadata": {},
   "outputs": [
    {
     "data": {
      "text/html": [
       "<div>\n",
       "<style scoped>\n",
       "    .dataframe tbody tr th:only-of-type {\n",
       "        vertical-align: middle;\n",
       "    }\n",
       "\n",
       "    .dataframe tbody tr th {\n",
       "        vertical-align: top;\n",
       "    }\n",
       "\n",
       "    .dataframe thead th {\n",
       "        text-align: right;\n",
       "    }\n",
       "</style>\n",
       "<table border=\"1\" class=\"dataframe\">\n",
       "  <thead>\n",
       "    <tr style=\"text-align: right;\">\n",
       "      <th></th>\n",
       "      <th>note</th>\n",
       "      <th>tags</th>\n",
       "      <th>spanish_verb</th>\n",
       "      <th>inf_verb</th>\n",
       "      <th>person</th>\n",
       "      <th>sing_or_plural</th>\n",
       "      <th>mood</th>\n",
       "      <th>tense</th>\n",
       "      <th>pos_neg_cmd</th>\n",
       "      <th>context_phrase</th>\n",
       "    </tr>\n",
       "  </thead>\n",
       "  <tbody>\n",
       "  </tbody>\n",
       "</table>\n",
       "</div>"
      ],
      "text/plain": [
       "Empty DataFrame\n",
       "Columns: [note, tags, spanish_verb, inf_verb, person, sing_or_plural, mood, tense, pos_neg_cmd, context_phrase]\n",
       "Index: []"
      ]
     },
     "execution_count": 19,
     "metadata": {},
     "output_type": "execute_result"
    }
   ],
   "source": [
    "df.loc[df.duplicated(subset=merge_cols, keep=False)].sort_values(by=merge_cols).head()"
   ]
  },
  {
   "cell_type": "code",
   "execution_count": 20,
   "id": "56e8ab19-c4bd-42dd-b254-a3eabc5ed7e6",
   "metadata": {},
   "outputs": [],
   "source": [
    "# add the catalan conjugations\n",
    "cat_conj_df = pd.read_csv('catalan_verbs_parsed.tsv', sep='\\t', encoding='utf-8')\n",
    "# cat_conj_df.loc[cat_conj_df.duplicated(subset=merge_cols, keep=False)].sort_values(by=merge_cols)"
   ]
  },
  {
   "cell_type": "code",
   "execution_count": 21,
   "id": "57ea9c48-d11e-4824-b940-191e1664c679",
   "metadata": {},
   "outputs": [
    {
     "name": "stdout",
     "output_type": "stream",
     "text": [
      "2666\n",
      "2666\n"
     ]
    }
   ],
   "source": [
    "\n",
    "# df.note.values[0]\n",
    "\n",
    "print(len(df.index))\n",
    "cat_conj_df.head()\n",
    "\n",
    "for c in merge_cols:\n",
    "    df[c] = df[c].astype(str)\n",
    "    cat_conj_df[c] = cat_conj_df[c].astype(str)\n",
    "df = df.merge(cat_conj_df, \n",
    "              how='left', \n",
    "              on=merge_cols)\n",
    "print(len(df.index))\n",
    "\n",
    "# # replace the infinitive and conjugated verb in the notes\n",
    "# df['pref'] = df.note.str.split('{{c1::', expand=True)[0]+'{{c1::'\n",
    "# df['suff'] = '…}}'+df.note.str.split('…}}', expand=True)[1]\n",
    "# df['cat_note'] df.pref+\n",
    "\n",
    "\n",
    "\n",
    "\n",
    "# # also make the question\n"
   ]
  },
  {
   "cell_type": "code",
   "execution_count": 22,
   "id": "76ca7852-5f28-4d5c-b892-ac36b5f7ccc1",
   "metadata": {},
   "outputs": [
    {
     "data": {
      "text/html": [
       "<div>\n",
       "<style scoped>\n",
       "    .dataframe tbody tr th:only-of-type {\n",
       "        vertical-align: middle;\n",
       "    }\n",
       "\n",
       "    .dataframe tbody tr th {\n",
       "        vertical-align: top;\n",
       "    }\n",
       "\n",
       "    .dataframe thead th {\n",
       "        text-align: right;\n",
       "    }\n",
       "</style>\n",
       "<table border=\"1\" class=\"dataframe\">\n",
       "  <thead>\n",
       "    <tr style=\"text-align: right;\">\n",
       "      <th></th>\n",
       "      <th>note</th>\n",
       "      <th>tags</th>\n",
       "      <th>spanish_verb</th>\n",
       "      <th>inf_verb</th>\n",
       "      <th>person</th>\n",
       "      <th>sing_or_plural</th>\n",
       "      <th>mood</th>\n",
       "      <th>tense</th>\n",
       "      <th>pos_neg_cmd</th>\n",
       "      <th>context_phrase</th>\n",
       "      <th>conj_verb</th>\n",
       "      <th>code</th>\n",
       "      <th>region</th>\n",
       "      <th>verb_type</th>\n",
       "      <th>gender</th>\n",
       "      <th>haver_verb</th>\n",
       "      <th>anar_verb</th>\n",
       "    </tr>\n",
       "  </thead>\n",
       "  <tbody>\n",
       "    <tr>\n",
       "      <th>1804</th>\n",
       "      <td>Senjors, si us plau,  (que) {{c1::prohíban::…p...</td>\n",
       "      <td>ellos_ellas_ustedes ends_in_ir imperativo pro...</td>\n",
       "      <td>prohibir</td>\n",
       "      <td>prohibir</td>\n",
       "      <td>3</td>\n",
       "      <td>P</td>\n",
       "      <td>M</td>\n",
       "      <td>0</td>\n",
       "      <td>pos</td>\n",
       "      <td>que</td>\n",
       "      <td>prohibeixin</td>\n",
       "      <td>VMM03P0Y</td>\n",
       "      <td>central</td>\n",
       "      <td>M</td>\n",
       "      <td>0</td>\n",
       "      <td>NaN</td>\n",
       "      <td>NaN</td>\n",
       "    </tr>\n",
       "    <tr>\n",
       "      <th>1795</th>\n",
       "      <td>〰 Resulta divertit que 〰ells/elles/vostès {{c1...</td>\n",
       "      <td>ellos_ellas_ustedes ends_in_ir prohibir regul...</td>\n",
       "      <td>prohibir</td>\n",
       "      <td>prohibir</td>\n",
       "      <td>3</td>\n",
       "      <td>P</td>\n",
       "      <td>S</td>\n",
       "      <td>P</td>\n",
       "      <td>0</td>\n",
       "      <td>a los niños que griten</td>\n",
       "      <td>prohibeixin</td>\n",
       "      <td>VMSP3P0Y</td>\n",
       "      <td>central</td>\n",
       "      <td>M</td>\n",
       "      <td>0</td>\n",
       "      <td>NaN</td>\n",
       "      <td>NaN</td>\n",
       "    </tr>\n",
       "  </tbody>\n",
       "</table>\n",
       "</div>"
      ],
      "text/plain": [
       "                                                   note  \\\n",
       "1804  Senjors, si us plau,  (que) {{c1::prohíban::…p...   \n",
       "1795  〰 Resulta divertit que 〰ells/elles/vostès {{c1...   \n",
       "\n",
       "                                                   tags spanish_verb  \\\n",
       "1804   ellos_ellas_ustedes ends_in_ir imperativo pro...     prohibir   \n",
       "1795   ellos_ellas_ustedes ends_in_ir prohibir regul...     prohibir   \n",
       "\n",
       "      inf_verb person sing_or_plural mood tense pos_neg_cmd  \\\n",
       "1804  prohibir      3              P    M     0         pos   \n",
       "1795  prohibir      3              P    S     P           0   \n",
       "\n",
       "              context_phrase    conj_verb      code   region verb_type gender  \\\n",
       "1804                     que  prohibeixin  VMM03P0Y  central         M      0   \n",
       "1795  a los niños que griten  prohibeixin  VMSP3P0Y  central         M      0   \n",
       "\n",
       "     haver_verb anar_verb  \n",
       "1804        NaN       NaN  \n",
       "1795        NaN       NaN  "
      ]
     },
     "execution_count": 22,
     "metadata": {},
     "output_type": "execute_result"
    }
   ],
   "source": [
    "df.loc[df.conj_verb=='prohibeixin'].sort_values(by=merge_cols)"
   ]
  },
  {
   "cell_type": "code",
   "execution_count": 23,
   "id": "4ffc68b5-a1f5-4420-9b5f-86d6d93feb3c",
   "metadata": {},
   "outputs": [
    {
     "data": {
      "text/html": [
       "<div>\n",
       "<style scoped>\n",
       "    .dataframe tbody tr th:only-of-type {\n",
       "        vertical-align: middle;\n",
       "    }\n",
       "\n",
       "    .dataframe tbody tr th {\n",
       "        vertical-align: top;\n",
       "    }\n",
       "\n",
       "    .dataframe thead th {\n",
       "        text-align: right;\n",
       "    }\n",
       "</style>\n",
       "<table border=\"1\" class=\"dataframe\">\n",
       "  <thead>\n",
       "    <tr style=\"text-align: right;\">\n",
       "      <th></th>\n",
       "      <th>note</th>\n",
       "      <th>tags</th>\n",
       "      <th>spanish_verb</th>\n",
       "      <th>inf_verb</th>\n",
       "      <th>person</th>\n",
       "      <th>sing_or_plural</th>\n",
       "      <th>mood</th>\n",
       "      <th>tense</th>\n",
       "      <th>pos_neg_cmd</th>\n",
       "      <th>context_phrase</th>\n",
       "      <th>conj_verb</th>\n",
       "      <th>code</th>\n",
       "      <th>region</th>\n",
       "      <th>verb_type</th>\n",
       "      <th>gender</th>\n",
       "      <th>haver_verb</th>\n",
       "      <th>anar_verb</th>\n",
       "    </tr>\n",
       "  </thead>\n",
       "  <tbody>\n",
       "  </tbody>\n",
       "</table>\n",
       "</div>"
      ],
      "text/plain": [
       "Empty DataFrame\n",
       "Columns: [note, tags, spanish_verb, inf_verb, person, sing_or_plural, mood, tense, pos_neg_cmd, context_phrase, conj_verb, code, region, verb_type, gender, haver_verb, anar_verb]\n",
       "Index: []"
      ]
     },
     "execution_count": 23,
     "metadata": {},
     "output_type": "execute_result"
    }
   ],
   "source": [
    "df.loc[df.duplicated(subset=merge_cols, keep=False)].sort_values(by=merge_cols).head()"
   ]
  },
  {
   "cell_type": "code",
   "execution_count": 24,
   "id": "f993f992-1ccc-48bc-a409-6772ef1b0fc5",
   "metadata": {},
   "outputs": [],
   "source": [
    "# cat_conj_df.loc[(cat_conj_df.inf_verb=='ser')]\n",
    "                # (cat_conj_df.person=='0')&\\\n",
    "                # (cat_conj_df.sing_or_plural=='0')&\\\n",
    "                # (cat_conj_df.mood=='G')&\\\n",
    "                # (cat_conj_df.tense=='0')&\\\n",
    "                # (cat_conj_df.pos_neg_cmd=='0')]"
   ]
  },
  {
   "cell_type": "code",
   "execution_count": 26,
   "id": "2d5cd1b2-cd46-4d64-879f-d78489deb5a8",
   "metadata": {},
   "outputs": [],
   "source": [
    "df.to_csv('table_to_make_cards.csv', sep=',', index=False)"
   ]
  },
  {
   "cell_type": "code",
   "execution_count": null,
   "id": "43a03777-a7ca-40f5-b45b-d5c046b09682",
   "metadata": {},
   "outputs": [],
   "source": []
  },
  {
   "cell_type": "code",
   "execution_count": null,
   "id": "b0b8399b-e566-4c4c-9849-688f08c8e2f1",
   "metadata": {},
   "outputs": [],
   "source": []
  },
  {
   "cell_type": "code",
   "execution_count": null,
   "id": "aae0f6d8-73e3-4dcb-b244-2291cd488c1b",
   "metadata": {},
   "outputs": [],
   "source": []
  },
  {
   "cell_type": "code",
   "execution_count": null,
   "id": "61583a47-d86c-4ec1-afa2-3ed71dc83779",
   "metadata": {},
   "outputs": [],
   "source": []
  },
  {
   "cell_type": "code",
   "execution_count": null,
   "id": "2cab582d-9a7c-4063-a7bc-3668dfaa51ec",
   "metadata": {},
   "outputs": [],
   "source": []
  },
  {
   "cell_type": "code",
   "execution_count": null,
   "id": "522314e8-20b8-4575-9bf8-4b94eeadc75a",
   "metadata": {},
   "outputs": [],
   "source": []
  },
  {
   "cell_type": "code",
   "execution_count": null,
   "id": "76fa08d9-27bb-42be-82f2-93342f94fc2b",
   "metadata": {},
   "outputs": [],
   "source": []
  },
  {
   "cell_type": "code",
   "execution_count": null,
   "id": "87378ff2-a949-464e-b0d9-5a6f31249067",
   "metadata": {},
   "outputs": [],
   "source": []
  },
  {
   "cell_type": "code",
   "execution_count": null,
   "id": "8c93f853-34d4-40f9-b500-927611050b99",
   "metadata": {},
   "outputs": [],
   "source": []
  },
  {
   "cell_type": "code",
   "execution_count": null,
   "id": "596bf900-5d7a-4623-acce-5046488af4b9",
   "metadata": {},
   "outputs": [],
   "source": []
  },
  {
   "cell_type": "code",
   "execution_count": null,
   "id": "21a747d1-db57-442f-861c-cc26430664d5",
   "metadata": {},
   "outputs": [],
   "source": []
  },
  {
   "cell_type": "code",
   "execution_count": null,
   "id": "58be97b9-411d-4a85-a6bb-d6819199167f",
   "metadata": {},
   "outputs": [],
   "source": []
  }
 ],
 "metadata": {
  "kernelspec": {
   "display_name": "Python 3",
   "language": "python",
   "name": "python3"
  },
  "language_info": {
   "codemirror_mode": {
    "name": "ipython",
    "version": 3
   },
   "file_extension": ".py",
   "mimetype": "text/x-python",
   "name": "python",
   "nbconvert_exporter": "python",
   "pygments_lexer": "ipython3",
   "version": "3.7.12"
  }
 },
 "nbformat": 4,
 "nbformat_minor": 5
}
