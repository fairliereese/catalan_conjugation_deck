{
 "cells": [
  {
   "cell_type": "code",
   "execution_count": 1,
   "id": "2aa31a10-93b7-4652-8a07-e86c0609651c",
   "metadata": {},
   "outputs": [],
   "source": [
    "import sqlite3\n",
    "import pandas as pd"
   ]
  },
  {
   "cell_type": "code",
   "execution_count": 2,
   "id": "3c88ce8e-a776-4dd9-b549-09a6f99039d7",
   "metadata": {},
   "outputs": [],
   "source": [
    "conn = sqlite3.connect('collection.anki21')\n",
    "cursor = conn.cursor()"
   ]
  },
  {
   "cell_type": "markdown",
   "id": "7454d65a-5091-43e8-8ab2-afa01bcbff81",
   "metadata": {},
   "source": [
    "## Get the different prompts"
   ]
  },
  {
   "cell_type": "code",
   "execution_count": 95,
   "id": "b4ec0437-11e8-4074-8282-dfefd6648554",
   "metadata": {},
   "outputs": [],
   "source": [
    "# spanish <-> catalan verbs\n",
    "cat_sp_df = pd.read_csv('spanish_to_catalan_verbs.tsv', sep='\\t',\n",
    "                        encoding='latin1')\n",
    "cat_sp_df = cat_sp_df[['spanish_verb', 'catalan_verb']]\n",
    "cat_sp_df.rename({'catalan_verb': 'inf_verb'}, axis=1, inplace=True)"
   ]
  },
  {
   "cell_type": "code",
   "execution_count": 96,
   "id": "92a1db67-0e74-4636-81a5-a3256732dcb1",
   "metadata": {},
   "outputs": [],
   "source": [
    "# get the tags and notes for each card\n",
    "cursor.execute(\"SELECT sfld, tags FROM notes\")\n",
    "rows = cursor.fetchall()\n",
    "notes = []\n",
    "tags = []\n",
    "intro_phrases = [\"El verbo en\",\n",
    "                 \"Before\",\n",
    "                 \"During\",\n",
    "                 \"Grammar\",\n",
    "                 \"For \", \n",
    "                 \"I hesitated\",\n",
    "                 \"If you see\"]\n",
    "for row in rows:\n",
    "    if row[0].startswith(intro_phrases[0]): pass\n",
    "    elif row[0].startswith(intro_phrases[1]): pass\n",
    "    elif row[0].startswith(intro_phrases[2]): pass\n",
    "    elif row[0].startswith(intro_phrases[3]): pass\n",
    "    elif row[0].startswith(intro_phrases[4]): pass\n",
    "    elif row[0].startswith(intro_phrases[5]): pass\n",
    "    elif row[0].startswith(intro_phrases[6]): pass\n",
    "    else:\n",
    "        notes.append(row[0])\n",
    "        tags.append(row[1])"
   ]
  },
  {
   "cell_type": "code",
   "execution_count": 97,
   "id": "8d1d14e3-e96a-4e34-b3c4-98a9d5887761",
   "metadata": {},
   "outputs": [],
   "source": [
    "# make into a df\n",
    "df = pd.DataFrame(data=notes,\n",
    "                  columns=['note'])\n",
    "df['tags'] = tags\n",
    "\n",
    "# get the base verb and add catalan equivalent\n",
    "# (inner merge to get rid of verbs I didn't add equivalents for)\n",
    "df['spanish_verb'] = df['note'].str.split('::…', expand=True)[1].str.split('…}}', expand=True)[0]\n",
    "df = df.merge(cat_sp_df,\n",
    "              how='inner',\n",
    "              on='spanish_verb')"
   ]
  },
  {
   "cell_type": "code",
   "execution_count": 98,
   "id": "b7f2e7aa-d386-49bc-a0f4-a334cd21967e",
   "metadata": {},
   "outputs": [
    {
     "data": {
      "text/plain": [
       "' ends_in_er extreme_irregularity irregular_verb participio regular_form ser '"
      ]
     },
     "execution_count": 98,
     "metadata": {},
     "output_type": "execute_result"
    }
   ],
   "source": [
    "df.tags[1]"
   ]
  },
  {
   "cell_type": "code",
   "execution_count": 99,
   "id": "84d75f58-b43a-4d13-af5e-720fb84694a4",
   "metadata": {},
   "outputs": [
    {
     "name": "stdout",
     "output_type": "stream",
     "text": [
      "3761\n",
      "2991\n"
     ]
    }
   ],
   "source": [
    "# get rid of tú_vos\n",
    "print(len(df.index))\n",
    "df = df.loc[~df.tags.str.contains(' tú_vos ')]\n",
    "print(len(df.index))"
   ]
  },
  {
   "cell_type": "code",
   "execution_count": 100,
   "id": "d0c74fe0-3bea-416c-9ae8-9c8cdd4d1053",
   "metadata": {},
   "outputs": [
    {
     "name": "stdout",
     "output_type": "stream",
     "text": [
      "2991\n",
      "2666\n"
     ]
    }
   ],
   "source": [
    "# get rid of subjunctive future\n",
    "print(len(df.index))\n",
    "df = df.loc[~df.tags.str.contains(' subjuntivo_futuro ')]\n",
    "print(len(df.index))"
   ]
  },
  {
   "cell_type": "code",
   "execution_count": 101,
   "id": "72bf886c-bacd-4c10-b6b7-f204aba4f9d1",
   "metadata": {},
   "outputs": [],
   "source": [
    "# tags I care about that I can merge on \n",
    "\n",
    "# 1, 2, 3rd person\n",
    "person_map = {'yo': '1',\n",
    "              'tú': '2',\n",
    "              'él_ella_usted': '3',\n",
    "              'nosotros': '1',\n",
    "              'vosotros': '2',\n",
    "              'ellos_ellas_ustedes': '3'}\n",
    "df['person'] = '0'\n",
    "for key, item in person_map.items():\n",
    "    thing = ' '+key+' '\n",
    "    df.loc[df.tags.str.contains(thing), 'person'] = person_map[key]\n",
    "    \n",
    "# singular or plural\n",
    "sing_or_plural_map = {'yo': 'S',\n",
    "              'tú': 'S',\n",
    "              'él_ella_usted': 'S',\n",
    "              'nosotros': 'P',\n",
    "              'vosotros': 'P',\n",
    "              'ellos_ellas_ustedes': 'P'}\n",
    "df['sing_or_plural'] = '0'\n",
    "for key, item in sing_or_plural_map.items():\n",
    "    thing = ' '+key+' '\n",
    "    df.loc[df.tags.str.contains(thing), 'sing_or_plural'] = sing_or_plural_map[key]\n",
    "\n",
    "# mood\n",
    "mood_map = {'presente': 'I',\n",
    "           'imperfecto': 'I',\n",
    "           'indefinido': 'I',\n",
    "           'futuro': 'I',\n",
    "           'condicional': 'I',\n",
    "           'subjuntivo_presente': 'S',\n",
    "           'subjuntivo_pasado': 'S',\n",
    "           'imperativo': 'M',\n",
    "           'negative_imperativo': 'M',\n",
    "           'gerundio': 'G',\n",
    "           'participio': 'P'}\n",
    "df['mood'] = '0'\n",
    "for key, item in mood_map.items():\n",
    "    thing = ' '+key+' '\n",
    "    df.loc[df.tags.str.contains(thing), 'mood'] = mood_map[key]\n",
    "\n",
    "# tense\n",
    "tense_map = {'presente': 'P',\n",
    "           'imperfecto': 'I',\n",
    "           'indefinido': 'passat_perifrastic',\n",
    "           'futuro': 'F',\n",
    "           'condicional': 'C',\n",
    "           'subjuntivo_presente': 'P',\n",
    "           'subjuntivo_pasado': 'S',\n",
    "           'imperativo': 'M',\n",
    "           'negative_imperativo': 'M',\n",
    "           'gerundio': 'G',\n",
    "           'participio': 'P'}\n",
    "df['tense'] = '0'\n",
    "for key, item in tense_map.items():\n",
    "    thing = ' '+key+' '\n",
    "    df.loc[df.tags.str.contains(thing), 'tense'] = tense_map[key]\n",
    "\n",
    "# pos_neg_cmd\n",
    "pos_neg_map = {'imperativo': 'pos',\n",
    "           'negative_imperativo': 'neg'}\n",
    "df['pos_neg_cmd'] = '0'\n",
    "for key, item in pos_neg_map.items():\n",
    "    thing = ' '+key+' '\n",
    "    df.loc[df.tags.str.contains(thing), 'pos_neg_cmd'] = pos_neg_map[key]"
   ]
  },
  {
   "cell_type": "code",
   "execution_count": 102,
   "id": "30ff4a27-d97b-4516-b118-5c1ec06c934d",
   "metadata": {},
   "outputs": [],
   "source": [
    "# TODO add a version of the past using \"ahir\" \n",
    "# for the passat simple (ie he anat)"
   ]
  },
  {
   "cell_type": "code",
   "execution_count": 103,
   "id": "933f14a0-2398-4ad2-81d0-5b6b8e69c4ee",
   "metadata": {},
   "outputs": [],
   "source": [
    "# add the catalan conjugations\n",
    "cat_conj_df = pd.read_csv('fer_parsed.tsv', sep='\\t')\n"
   ]
  },
  {
   "cell_type": "code",
   "execution_count": 104,
   "id": "b2e14d72-f407-4915-81cc-6f0370118795",
   "metadata": {},
   "outputs": [],
   "source": [
    "# just hacer<->fer for now\n",
    "df = df.loc[df.inf_verb=='fer']"
   ]
  },
  {
   "cell_type": "code",
   "execution_count": 106,
   "id": "bace3efa-7e0b-4180-a4bb-c1204314e79a",
   "metadata": {},
   "outputs": [
    {
     "data": {
      "text/plain": [
       "41"
      ]
     },
     "execution_count": 106,
     "metadata": {},
     "output_type": "execute_result"
    }
   ],
   "source": [
    "len(df.index)"
   ]
  },
  {
   "cell_type": "code",
   "execution_count": 108,
   "id": "9ba6d28c-4d6a-48c1-ae89-22c2eff6f594",
   "metadata": {},
   "outputs": [
    {
     "name": "stdout",
     "output_type": "stream",
     "text": [
      "32\n"
     ]
    }
   ],
   "source": [
    "cat_conj_df.head()\n",
    "merge_cols = ['mood', 'tense', 'person',\n",
    "              'sing_or_plural', 'pos_neg_cmd']\n",
    "for c in merge_cols:\n",
    "    df[c] = df[c].astype(str)\n",
    "    cat_conj_df[c] = cat_conj_df[c].astype(str)\n",
    "df = df.merge(cat_conj_df, \n",
    "              how='inner', \n",
    "              on=merge_cols)\n",
    "print(len(df.index)))"
   ]
  },
  {
   "cell_type": "code",
   "execution_count": null,
   "id": "d9f0d2ab-aa48-4876-8e05-b0c4560fddd1",
   "metadata": {},
   "outputs": [],
   "source": []
  }
 ],
 "metadata": {
  "kernelspec": {
   "display_name": "Python 3",
   "language": "python",
   "name": "python3"
  },
  "language_info": {
   "codemirror_mode": {
    "name": "ipython",
    "version": 3
   },
   "file_extension": ".py",
   "mimetype": "text/x-python",
   "name": "python",
   "nbconvert_exporter": "python",
   "pygments_lexer": "ipython3",
   "version": "3.7.12"
  }
 },
 "nbformat": 4,
 "nbformat_minor": 5
}
