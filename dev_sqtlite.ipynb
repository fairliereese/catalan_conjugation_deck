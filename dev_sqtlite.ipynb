{
 "cells": [
  {
   "cell_type": "code",
   "execution_count": 94,
   "id": "2aa31a10-93b7-4652-8a07-e86c0609651c",
   "metadata": {},
   "outputs": [],
   "source": [
    "import sqlite3\n",
    "import pandas as pd"
   ]
  },
  {
   "cell_type": "code",
   "execution_count": 95,
   "id": "3c88ce8e-a776-4dd9-b549-09a6f99039d7",
   "metadata": {},
   "outputs": [],
   "source": [
    "conn = sqlite3.connect('collection.anki21')\n",
    "cursor = conn.cursor()"
   ]
  },
  {
   "cell_type": "markdown",
   "id": "7454d65a-5091-43e8-8ab2-afa01bcbff81",
   "metadata": {},
   "source": [
    "## Get the different prompts"
   ]
  },
  {
   "cell_type": "code",
   "execution_count": 156,
   "id": "b4ec0437-11e8-4074-8282-dfefd6648554",
   "metadata": {},
   "outputs": [],
   "source": [
    "# spanish <-> catalan verbs\n",
    "cat_sp_df = pd.read_csv('spanish_to_catalan_verbs.tsv', sep='\\t',\n",
    "                        encoding='latin1')\n",
    "cat_sp_df = cat_sp_df[['spanish_verb', 'catalan_verb']]\n",
    "cat_sp_df.rename({'catalan_verb': 'inf_verb'}, axis=1, inplace=True)"
   ]
  },
  {
   "cell_type": "code",
   "execution_count": 157,
   "id": "92a1db67-0e74-4636-81a5-a3256732dcb1",
   "metadata": {},
   "outputs": [],
   "source": [
    "# get the tags and notes for each card\n",
    "cursor.execute(\"SELECT sfld, tags FROM notes\")\n",
    "rows = cursor.fetchall()\n",
    "notes = []\n",
    "tags = []\n",
    "intro_phrases = [\"El verbo en\",\n",
    "                 \"Before\",\n",
    "                 \"During\",\n",
    "                 \"Grammar\",\n",
    "                 \"For \", \n",
    "                 \"I hesitated\",\n",
    "                 \"If you see\"]\n",
    "for row in rows:\n",
    "    if row[0].startswith(intro_phrases[0]): pass\n",
    "    elif row[0].startswith(intro_phrases[1]): pass\n",
    "    elif row[0].startswith(intro_phrases[2]): pass\n",
    "    elif row[0].startswith(intro_phrases[3]): pass\n",
    "    elif row[0].startswith(intro_phrases[4]): pass\n",
    "    elif row[0].startswith(intro_phrases[5]): pass\n",
    "    elif row[0].startswith(intro_phrases[6]): pass\n",
    "    else:\n",
    "        notes.append(row[0])\n",
    "        tags.append(row[1])"
   ]
  },
  {
   "cell_type": "code",
   "execution_count": 158,
   "id": "8d1d14e3-e96a-4e34-b3c4-98a9d5887761",
   "metadata": {},
   "outputs": [],
   "source": [
    "# make into a df\n",
    "df = pd.DataFrame(data=notes,\n",
    "                  columns=['note'])\n",
    "df['tags'] = tags\n",
    "\n",
    "# get the base verb and add catalan equivalent\n",
    "# (inner merge to get rid of verbs I didn't add equivalents for)\n",
    "df['spanish_verb'] = df['note'].str.split('::…', expand=True)[1].str.split('…}}', expand=True)[0]\n",
    "df = df.merge(cat_sp_df,\n",
    "              how='inner',\n",
    "              on='spanish_verb')"
   ]
  },
  {
   "cell_type": "code",
   "execution_count": 159,
   "id": "b7f2e7aa-d386-49bc-a0f4-a334cd21967e",
   "metadata": {},
   "outputs": [
    {
     "data": {
      "text/plain": [
       "' ends_in_er extreme_irregularity irregular_verb participio regular_form ser '"
      ]
     },
     "execution_count": 159,
     "metadata": {},
     "output_type": "execute_result"
    }
   ],
   "source": [
    "df.tags[1]"
   ]
  },
  {
   "cell_type": "code",
   "execution_count": 160,
   "id": "84d75f58-b43a-4d13-af5e-720fb84694a4",
   "metadata": {},
   "outputs": [
    {
     "name": "stdout",
     "output_type": "stream",
     "text": [
      "3761\n",
      "2991\n"
     ]
    }
   ],
   "source": [
    "# get rid of tú_vos\n",
    "print(len(df.index))\n",
    "df = df.loc[~df.tags.str.contains(' tú_vos ')]\n",
    "print(len(df.index))"
   ]
  },
  {
   "cell_type": "code",
   "execution_count": 161,
   "id": "d0c74fe0-3bea-416c-9ae8-9c8cdd4d1053",
   "metadata": {},
   "outputs": [
    {
     "name": "stdout",
     "output_type": "stream",
     "text": [
      "2991\n",
      "2666\n"
     ]
    }
   ],
   "source": [
    "# get rid of subjunctive future\n",
    "print(len(df.index))\n",
    "df = df.loc[~df.tags.str.contains(' subjuntivo_futuro ')]\n",
    "print(len(df.index))"
   ]
  },
  {
   "cell_type": "code",
   "execution_count": 102,
   "id": "72bf886c-bacd-4c10-b6b7-f204aba4f9d1",
   "metadata": {},
   "outputs": [],
   "source": [
    "# tags I care about that I can merge on \n",
    "\n",
    "# 1, 2, 3rd person\n",
    "person_map = {'yo': '1',\n",
    "              'tú': '2',\n",
    "              'él_ella_usted': '3',\n",
    "              'nosotros': '1',\n",
    "              'vosotros': '2',\n",
    "              'ellos_ellas_ustedes': '3'}\n",
    "df['person'] = '0'\n",
    "for key, item in person_map.items():\n",
    "    thing = ' '+key+' '\n",
    "    df.loc[df.tags.str.contains(thing), 'person'] = person_map[key]\n",
    "    \n",
    "# singular or plural\n",
    "sing_or_plural_map = {'yo': 'S',\n",
    "              'tú': 'S',\n",
    "              'él_ella_usted': 'S',\n",
    "              'nosotros': 'P',\n",
    "              'vosotros': 'P',\n",
    "              'ellos_ellas_ustedes': 'P'}\n",
    "df['sing_or_plural'] = '0'\n",
    "for key, item in sing_or_plural_map.items():\n",
    "    thing = ' '+key+' '\n",
    "    df.loc[df.tags.str.contains(thing), 'sing_or_plural'] = sing_or_plural_map[key]\n",
    "df.loc[df.tags.str.contains(' participio '), 'sing_or_plural'] = 'S'\n",
    "\n",
    "# mood\n",
    "mood_map = {'presente': 'I',\n",
    "           'imperfecto': 'I',\n",
    "           'indefinido': 'I',\n",
    "           'futuro': 'I',\n",
    "           'condicional': 'I',\n",
    "           'subjuntivo_presente': 'S',\n",
    "           'subjuntivo_pasado': 'S',\n",
    "           'imperativo': 'M',\n",
    "           'negative_imperativo': 'M',\n",
    "           'gerundio': 'G',\n",
    "           'participio': 'P'}\n",
    "df['mood'] = '0'\n",
    "for key, item in mood_map.items():\n",
    "    thing = ' '+key+' '\n",
    "    df.loc[df.tags.str.contains(thing), 'mood'] = mood_map[key]\n",
    "\n",
    "# tense\n",
    "tense_map = {'presente': 'P',\n",
    "           'imperfecto': 'I',\n",
    "           'indefinido': 'passat_perifrastic',\n",
    "           'futuro': 'F',\n",
    "           'condicional': 'C',\n",
    "           'subjuntivo_presente': 'P',\n",
    "           'subjuntivo_pasado': 'I'}\n",
    "df['tense'] = '0'\n",
    "for key, item in tense_map.items():\n",
    "    thing = ' '+key+' '\n",
    "    df.loc[df.tags.str.contains(thing), 'tense'] = tense_map[key]\n",
    "\n",
    "# pos_neg_cmd\n",
    "pos_neg_map = {'imperativo': 'pos',\n",
    "               'negative_imperativo': 'neg'}\n",
    "df['pos_neg_cmd'] = '0'\n",
    "for key, item in pos_neg_map.items():\n",
    "    thing = ' '+key+' '\n",
    "    df.loc[df.tags.str.contains(thing), 'pos_neg_cmd'] = pos_neg_map[key]"
   ]
  },
  {
   "cell_type": "code",
   "execution_count": 103,
   "id": "30ff4a27-d97b-4516-b118-5c1ec06c934d",
   "metadata": {},
   "outputs": [],
   "source": [
    "# TODO add a version of the past using \"ahir\" \n",
    "# for the passat simple (ie he anat)"
   ]
  },
  {
   "cell_type": "code",
   "execution_count": null,
   "id": "480241f9-5a00-48f4-8092-4367663b41e3",
   "metadata": {},
   "outputs": [],
   "source": [
    "# split the note up so I can translate and replace shit\n",
    "# by the different tense / mood combos\n",
    "split_dict = {'gerundio': ['Mientras estoy estudiando…', 1],\n",
    "              'participio': ['Hugo ha', 1],\n",
    "              'presente': ['⊙ Ahora mismo, ⊙', 1],\n",
    "              'imperfecto': ['⇠ En esa época, a menudo, ⇠', 1],\n",
    "              'indefinido': ['↧ En aquel momento ↧', 1],\n",
    "              'futuro': ['→ En el futuro, →', 1],\n",
    "              'condicional': ['…', 2],\n",
    "              'subjuntivo_presente': ['〰 Resulta divertido que 〰', 1],\n",
    "              'subjuntivo_pasado': ['↫ Fue sorprendente que ↫', 1],\n",
    "              'imperativo': ['¡', 1]}\n",
    "# tag:negative_imperativo}\n",
    "\n",
    "\n",
    "               \n",
    "               "
   ]
  },
  {
   "cell_type": "code",
   "execution_count": 152,
   "id": "d6dd0ea3-626f-4c9a-905f-e37c9d40f339",
   "metadata": {},
   "outputs": [
    {
     "data": {
      "text/html": [
       "<div>\n",
       "<style scoped>\n",
       "    .dataframe tbody tr th:only-of-type {\n",
       "        vertical-align: middle;\n",
       "    }\n",
       "\n",
       "    .dataframe tbody tr th {\n",
       "        vertical-align: top;\n",
       "    }\n",
       "\n",
       "    .dataframe thead th {\n",
       "        text-align: right;\n",
       "    }\n",
       "</style>\n",
       "<table border=\"1\" class=\"dataframe\">\n",
       "  <thead>\n",
       "    <tr style=\"text-align: right;\">\n",
       "      <th></th>\n",
       "      <th>note</th>\n",
       "      <th>tags</th>\n",
       "      <th>spanish_verb</th>\n",
       "      <th>inf_verb</th>\n",
       "      <th>person</th>\n",
       "      <th>sing_or_plural</th>\n",
       "      <th>mood</th>\n",
       "      <th>tense</th>\n",
       "      <th>pos_neg_cmd</th>\n",
       "      <th>note1</th>\n",
       "      <th>note2</th>\n",
       "      <th>note1_1</th>\n",
       "      <th>note1_2</th>\n",
       "    </tr>\n",
       "  </thead>\n",
       "  <tbody>\n",
       "  </tbody>\n",
       "</table>\n",
       "</div>"
      ],
      "text/plain": [
       "Empty DataFrame\n",
       "Columns: [note, tags, spanish_verb, inf_verb, person, sing_or_plural, mood, tense, pos_neg_cmd, note1, note2, note1_1, note1_2]\n",
       "Index: []"
      ]
     },
     "execution_count": 152,
     "metadata": {},
     "output_type": "execute_result"
    }
   ],
   "source": [
    "df.loc[df.note.str.contains('esto')].tail()\n",
    "# df.loc[(df.mood=='M')&(df.pos_neg_cmd=='neg')].head()\n",
    "# df.loc[df.note.str.startswith('Mujer, por favor, no')].head()\n",
    "df.loc[(df.pos_neg_cmd=='neg')].head()"
   ]
  },
  {
   "cell_type": "code",
   "execution_count": 124,
   "id": "d523d707-ffe7-48e8-b1aa-51f43104dbf2",
   "metadata": {},
   "outputs": [],
   "source": [
    "spanish_phrases = []\n",
    "df['note1'] = df.note.str.split('{{', expand=True)[0]\n",
    "df['note1_1'] = df.note1.str.split('…', expand=True)[0]\n",
    "df['note1_2'] = df.note1.str.split('…', expand=True)[1]\n",
    "df['note2'] = df.note.str.split('}}', expand=True)[1]"
   ]
  },
  {
   "cell_type": "code",
   "execution_count": 129,
   "id": "864363a8-d56c-4338-bfef-36e6dac0484f",
   "metadata": {},
   "outputs": [
    {
     "name": "stdout",
     "output_type": "stream",
     "text": [
      "2666\n",
      "55\n"
     ]
    },
    {
     "data": {
      "text/plain": [
       "['Mientras estoy estudiando',\n",
       " '',\n",
       " '→ En el futuro, →nosotros ',\n",
       " '→ En el futuro, →yo ',\n",
       " '→ En el futuro, →vosotros ',\n",
       " '→ En el futuro, →ellos/ellas/ustedes ',\n",
       " '→ En el futuro, →él/ella/usted ',\n",
       " '⇠ En esa época, a menudo, ⇠nosotros ',\n",
       " '⇠ En esa época, a menudo, ⇠yo ',\n",
       " '⇠ En esa época, a menudo, ⇠vosotros ',\n",
       " '⇠ En esa época, a menudo, ⇠ellos/ellas/ustedes ',\n",
       " '⇠ En esa época, a menudo, ⇠él/ella/usted ',\n",
       " '⊙ Ahora mismo, ⊙nosotros ',\n",
       " '⊙ Ahora mismo, ⊙yo ',\n",
       " '⊙ Ahora mismo, ⊙vosotros ',\n",
       " '⊙ Ahora mismo, ⊙ellos/ellas/ustedes ',\n",
       " '⊙ Ahora mismo, ⊙él/ella/usted ',\n",
       " '↧ En aquel momento ↧nosotros ',\n",
       " '↧ En aquel momento ↧yo ',\n",
       " '↧ En aquel momento ↧vosotros ',\n",
       " '↧ En aquel momento ↧ellos/ellas/ustedes ',\n",
       " '↧ En aquel momento ↧él/ella/usted ',\n",
       " 'Vámonos equipo, por favor,¡ (que) ',\n",
       " 'Tú y tú, por favor,¡ ',\n",
       " 'Señores, por favor,¡ (que) ',\n",
       " 'Señora, por favor,¡ (que) ',\n",
       " 'Hugo ha ',\n",
       " '↫ Fue sorprendente que ↫nosotros ',\n",
       " '↫ Fue sorprendente que ↫yo ',\n",
       " '↫ Fue sorprendente que ↫vosotros ',\n",
       " '↫ Fue sorprendente que ↫ellos/ellas/ustedes ',\n",
       " '↫ Fue sorprendente que ↫él/ella/usted ',\n",
       " '〰 Resulta divertido que 〰nosotros ',\n",
       " '〰 Resulta divertido que 〰yo ',\n",
       " '〰 Resulta divertido que 〰vosotros ',\n",
       " '〰 Resulta divertido que 〰ellos/ellas/ustedes ',\n",
       " '〰 Resulta divertido que 〰él/ella/usted ',\n",
       " 'Hugo se ha ',\n",
       " 'Hugo le ha ',\n",
       " 'Hugo no ha ',\n",
       " '—No nos alcanza para devolver el dinero.—Pues, ¡ ',\n",
       " '—No nos alcanza para restituir la fianza.—Pues, ¡ ',\n",
       " '—No les alcanza para abonar el tratamiento.—Pues, ¡ ',\n",
       " '—No le alcanza para reembolsar el préstamo.—Pues, ¡ ',\n",
       " 'Vámonos equipo, por favor,¡ ',\n",
       " 'Señores, por favor,¡ ',\n",
       " 'Señora, por favor,¡ ',\n",
       " '⊙ ¿Tiene usted tofu en la tienda? ⊙No, no ',\n",
       " '↧ En aquel momento ↧una vez nosotros ',\n",
       " '↧ En aquel momento ↧una vez yo ',\n",
       " '↧ En aquel momento ↧una vez vosotros ',\n",
       " '↧ En aquel momento ↧una vez ellos/ellas/ustedes ',\n",
       " '↧ En aquel momento ↧una vez él/ella/usted ',\n",
       " 'Hugo dice que ha ',\n",
       " 'Hugo me ha ']"
      ]
     },
     "execution_count": 129,
     "metadata": {},
     "output_type": "execute_result"
    }
   ],
   "source": [
    "print(len(df.index))\n",
    "print(len(df.note1_1.unique()))\n",
    "# spanish_phrases += \n",
    "df.note1_1.unique().tolist()"
   ]
  },
  {
   "cell_type": "code",
   "execution_count": 130,
   "id": "ef1693d9-8775-4104-96b0-10901e2d8faf",
   "metadata": {},
   "outputs": [
    {
     "name": "stdout",
     "output_type": "stream",
     "text": [
      "2666\n",
      "18\n"
     ]
    },
    {
     "data": {
      "text/plain": [
       "['ella está ',\n",
       " ' Si pasara algo, ',\n",
       " ' Si ocurriese esto, ',\n",
       " ' Si aconteciese esto, ',\n",
       " ' Si se produjera esto, ',\n",
       " ' Si acaeciera algo, ',\n",
       " None,\n",
       " 'ella se está ',\n",
       " 'ella me está ',\n",
       " 'no está ',\n",
       " 'el público está ',\n",
       " 'la pitón está ',\n",
       " 'ella no está ',\n",
       " 'está ',\n",
       " 'el programa está ',\n",
       " 'la pera está ',\n",
       " 'la comunidad se está ',\n",
       " 'él se está ']"
      ]
     },
     "execution_count": 130,
     "metadata": {},
     "output_type": "execute_result"
    }
   ],
   "source": [
    "temp = df.loc[df.mood=='G']\n",
    "print(len(df.index))\n",
    "print(len(df.note1_2.unique()))\n",
    "# spanish_phrases += \n",
    "df.note1_2.unique().tolist()"
   ]
  },
  {
   "cell_type": "code",
   "execution_count": 131,
   "id": "285af27b-63c5-4cb4-92d4-dc8be62659b2",
   "metadata": {},
   "outputs": [
    {
     "name": "stdout",
     "output_type": "stream",
     "text": [
      "2666\n",
      "386\n"
     ]
    },
    {
     "data": {
      "text/plain": [
       "array([' (en el teatro)', ' (en consecuencia), ya !(nosotros)',\n",
       "       ' (en consecuencia), ya !(vosotros)',\n",
       "       ' (en consecuencia), ya ! (ellos/ellas/ustedes)',\n",
       "       ' (en consecuencia), ya !(él/ella/usted)', ' (a la situación)',\n",
       "       ' (la velocidad al tráfico)',\n",
       "       ' (la velocidad al tráfico), ya !(nosotros)',\n",
       "       ' (la velocidad al tráfico), ya !(vosotros)',\n",
       "       ' (la velocidad al tráfico), ya ! (ellos/ellas/ustedes)',\n",
       "       ' (la velocidad al tráfico), ya !(él/ella/usted)', ' (libros)',\n",
       "       ' (más libros), ya !(nosotros)', ' (más libros), ya !(vosotros)',\n",
       "       ' (más libros), ya ! (ellos/ellas/ustedes)',\n",
       "       ' (más libros), ya !(él/ella/usted)', ' (cariño)', ' (el tren)',\n",
       "       ' (el tren), ya !(nosotros)', ' (el tren), ya !(vosotros)',\n",
       "       ' (el tren), ya ! (ellos/ellas/ustedes)',\n",
       "       ' (el tren), ya !(él/ella/usted)', ' (un edificio)',\n",
       "       ' (la cabeza)', ' (la cabeza), ya !(nosotros)',\n",
       "       ' (la cabeza), ya !(vosotros)',\n",
       "       ' (la cabeza), ya ! (ellos/ellas/ustedes)',\n",
       "       ' (la cabeza), ya !(él/ella/usted)', ' (a Cádiz)', ' (a Sevilla)',\n",
       "       ' , ya !(nosotros)', ' , ya !(vosotros)',\n",
       "       ' , ya ! (ellos/ellas/ustedes)', ' , ya !(él/ella/usted)',\n",
       "       ' (a los hijos)', ' (a los niños)',\n",
       "       ' (a los niños), ya !(nosotros)', ' (a los niños), ya !(vosotros)',\n",
       "       ' (a los niños), ya ! (ellos/ellas/ustedes)',\n",
       "       ' (a los niños), ya !(él/ella/usted)', ' (el silencio)',\n",
       "       ' (la buena suerte)', ' (la buena suerte) !(nosotros)',\n",
       "       ' (la buena suerte) !(vosotros)',\n",
       "       ' (la buena suerte) ! (ellos/ellas/ustedes)',\n",
       "       ' (la buena suerte) !(él/ella/usted)',\n",
       "       ' (la oportunidad de descansar)', ' (el billete)', ' (ideas)',\n",
       "       ' (ideas), ya !(nosotros)', ' (ideas), ya !(vosotros)',\n",
       "       ' (ideas), ya ! (ellos/ellas/ustedes)',\n",
       "       ' (ideas), ya !(él/ella/usted)', ' (excepción a mi rutina)',\n",
       "       ' (en el coche)', ' (en esta ropa)',\n",
       "       ' (en estos pantalones dentro de un mes) !(nosotros)',\n",
       "       ' (en estos pantalones dentro de un mes) !(vosotros)',\n",
       "       ' (en estos pantalones dentro de un mes) ! (ellos/ellas/ustedes)',\n",
       "       ' (en estos pantalones dentro de un mes) !(él/ella/usted)',\n",
       "       ' (por las calles)', ' (más velozmente), ya !(nosotros)',\n",
       "       ' (más velozmente), ya !(vosotros)',\n",
       "       ' (más velozmente), ya ! (ellos/ellas/ustedes)',\n",
       "       ' (más velozmente), ya !(él/ella/usted)', ' (de sueño)',\n",
       "       ' (en la cuenta), ya !(nosotros)',\n",
       "       ' (en la cuenta), ya !(vosotros)',\n",
       "       ' (en la cuenta), ya ! (ellos/ellas/ustedes)',\n",
       "       ' (en la cuenta), ya !(él/ella/usted)', ' (al dueño)',\n",
       "       ' (al dueño), ya !(nosotros)', ' (al dueño), ya !(vosotros)',\n",
       "       ' (al dueño), ya ! (ellos/ellas/ustedes)',\n",
       "       ' (al dueño), ya !(él/ella/usted)', ' (mi ánimo)',\n",
       "       ' (las últimas esperanzas de Juan)', ' (las esperanzas de Juan)',\n",
       "       ' (el ánimo de Juan) !(nosotros)',\n",
       "       ' (el ánimo de Juan) !(vosotros)',\n",
       "       ' (el ánimo de Juan) ! (ellos/ellas/ustedes)',\n",
       "       ' (el ánimo de Juan) !(él/ella/usted)', ' (que puedo aprobar)',\n",
       "       ' (en lo que dijo Javier)', ' (en lo que dice Javier)',\n",
       "       ' (en lo que decía Javier)',\n",
       "       ' (en la palabra de la jueza), ya !(nosotros)',\n",
       "       ' (en la palabra de la jueza), ya !(vosotros)',\n",
       "       ' (en la palabra de la jueza), ya ! (ellos/ellas/ustedes)',\n",
       "       ' (en la palabra de la jueza), ya !(él/ella/usted)',\n",
       "       ' (que podía ganar)', ' (en lo que Javier decía)', '',\n",
       "       ' (descaradamente)', ' (descaradamente), ya !(nosotros)',\n",
       "       ' (descaradamente), ya !(vosotros)',\n",
       "       ' (descaradamente), ya ! (ellos/ellas/ustedes)',\n",
       "       ' (descaradamente), ya !(él/ella/usted)', ' (dinero)', ' (salir)',\n",
       "       ' el monto, y ya está !(nosotros)',\n",
       "       ' el monto, y ya está !(vosotros)',\n",
       "       ' el monto, y ya está !(ellos/ellas/ustedes)',\n",
       "       ' el monto, y ya está !(él/ella/usted)', ' (irse de casa)',\n",
       "       ' (cosas dulces)', ' (que no)', ' (la verdad), ya !(nosotros)',\n",
       "       ' (la verdad), ya !(vosotros)',\n",
       "       ' (la verdad), ya ! (ellos/ellas/ustedes)',\n",
       "       ' (la verdad), ya !(él/ella/usted)', ' (cosas sorprendentes)',\n",
       "       ' (una cosa de la otra)', ' (el bueno del malo)',\n",
       "       ' (una cosa de la otra), ya !(nosotros)',\n",
       "       ' (una cosa de la otra), ya !(vosotros)',\n",
       "       ' (una cosa de la otra), ya ! (ellos/ellas/ustedes)',\n",
       "       ' (una cosa de la otra), ya !(él/ella/usted)', ' (clases)',\n",
       "       ' (las clases), ya !(nosotros)', ' (las clases), ya !(vosotros)',\n",
       "       ' (las clases), ya ! (ellos/ellas/ustedes)',\n",
       "       ' (las clases), ya !(él/ella/usted)', ' ', ' (una rata)',\n",
       "       ' (plátanos)', ' (el pastel), ya !(nosotros)',\n",
       "       ' (el pastel), ya !(vosotros)',\n",
       "       ' (el pastel), ya ! (ellos/ellas/ustedes)',\n",
       "       ' (el pastel), ya !(él/ella/usted)', ' (la torta)',\n",
       "       ' (mis esfuerzos)', ' (los motivos de Carlos)',\n",
       "       ' (de qué se trata), ya !(nosotros)',\n",
       "       ' (de qué se trata), ya !(vosotros)',\n",
       "       ' (de qué se trata), ya ! (ellos/ellas/ustedes)',\n",
       "       ' (de qué se trata), ya !(él/ella/usted)', ' (sus intenciones)',\n",
       "       ' (cartas)', ' (las cartas), ya !(nosotros)',\n",
       "       ' (las cartas), ya !(vosotros)',\n",
       "       ' (las cartas), ya ! (ellos/ellas/ustedes)',\n",
       "       ' (las cartas), ya !(él/ella/usted)', ' (en decir que no)',\n",
       "       ' (por las calles) !(nosotros)', ' (por las calles) !(vosotros)',\n",
       "       ' (por las calles) ! (ellos/ellas/ustedes)',\n",
       "       ' (por las calles) !(él/ella/usted)', ' (por el campo)',\n",
       "       ' (lo de su tío)', ' (los cálculos)',\n",
       "       ' (los cálculos), ya !(nosotros)',\n",
       "       ' (los cálculos), ya !(vosotros)',\n",
       "       ' (los cálculos), ya ! (ellos/ellas/ustedes)',\n",
       "       ' (los cálculos), ya !(él/ella/usted)', ' (lo de su tía)',\n",
       "       ' (parada)', ' (seguros/as)', ' (seguro/a)', ' (en Cádiz)',\n",
       "       ' (felices), ya !(nosotros)', ' (felices), ya !(vosotros)',\n",
       "       ' (felices), ya ! (ellos/ellas/ustedes)',\n",
       "       ' (feliz), ya !(él/ella/usted)', ' (el ambiente del dormitorio)',\n",
       "       ' (el sabor del plato)', ' (el sabor de un plato)',\n",
       "       ' (el sabor del plato) !(nosotros)',\n",
       "       ' (el sabor del plato) !(vosotros)',\n",
       "       ' (el sabor del plato) ! (ellos/ellas/ustedes)',\n",
       "       ' (el sabor del plato) !(él/ella/usted)',\n",
       "       ' (sus ejercicios espirituales)', ' (pasteles)',\n",
       "       ' (la compra), ya !(nosotros)', ' (la compra), ya !(vosotros)',\n",
       "       ' (la compra), ya ! (ellos/ellas/ustedes)',\n",
       "       ' (la compra), ya !(él/ella/usted)', ' (mucha especulación)',\n",
       "       ' (ganado el premio)', ' (viajado a lo largo y ancho de España)',\n",
       "       ' (cenado antes de llegar a casa)', ' (cambiado de opinión)',\n",
       "       ' (comido, ella salió)', ' (comido antes de salir) !(nosotros)',\n",
       "       ' (comido antes de salir) !(vosotros)',\n",
       "       ' (comido antes de salir) ! (ellos/ellas/ustedes)',\n",
       "       ' (comido antes de salir) !(él/ella/usted)', ' (un malentendido)',\n",
       "       ' (desarrollos positivos)', ' (a Sofia en la discusión)',\n",
       "       ' (a Sofia en la decisión), ya !(nosotros)',\n",
       "       ' (a Sofia en la decisión), ya !(vosotros)',\n",
       "       ' (a Sofia en la decisión), ya ! (ellos/ellas/ustedes)',\n",
       "       ' (a Sofia en la decisión), ya !(él/ella/usted)',\n",
       "       ' (el sujeto en el temario)', ' (en el sofá)',\n",
       "       ' (en el sofá), ya !(nosotros)', ' (en el sofá), ya !(vosotros)',\n",
       "       ' (en el sofá), ya ! (ellos/ellas/ustedes)',\n",
       "       ' (en el sofá), ya !(él/ella/usted)', ' (con el gato)',\n",
       "       ' (al ajedrez)', ' (al ajedrez), ya !(nosotros)',\n",
       "       ' (al ajedrez), ya !(vosotros)',\n",
       "       ' (al ajedrez), ya ! (ellos/ellas/ustedes)',\n",
       "       ' (al ajedrez), ya !(él/ella/usted)', ' (su colección)',\n",
       "       ' (felices)', ' (feliz)', ' (de hambre)', ' (de miedo)',\n",
       "       ' (de vergüenza), ya !(nosotros)',\n",
       "       ' (de vergüenza), ya !(vosotros)',\n",
       "       ' (de vergüenza), ya ! (ellos/ellas/ustedes)',\n",
       "       ' (de vergüenza), ya !(él/ella/usted)', ' (de causas naturales)',\n",
       "       ' (el humo del porro del vecino)', ' (la basura)',\n",
       "       ' (la basura), ya !(nosotros)', ' (la basura), ya !(vosotros)',\n",
       "       ' (la basura), ya ! (ellos/ellas/ustedes)',\n",
       "       ' (la basura), ya !(él/ella/usted)', ' (sobre Borges)',\n",
       "       ' (del pasado)', ' (de Costa Rica)', ' (en sus cosas)',\n",
       "       ' (en Buenos Aires)', ' (en las víctimas), ya !(nosotros)',\n",
       "       ' (en las víctimas), ya !(vosotros)',\n",
       "       ' (en las víctimas), ya ! (ellos/ellas/ustedes)',\n",
       "       ' (en las víctimas), ya !(él/ella/usted)', ' (en ti)',\n",
       "       ' (disfrutar)', ' (descansar)',\n",
       "       ' (hacerlo, queriendo o no) !(nosotros)',\n",
       "       ' (hacerlo, queriendo o no) !(vosotros)',\n",
       "       ' (hacerlo, queriendo o no) ! (ellos/ellas/ustedes)',\n",
       "       ' (hacerlo, queriendo o no) !(él/ella/usted)', ' (dormir)',\n",
       "       ' (al profesor)', ' (al profesor), ya !(nosotros)',\n",
       "       ' (al profesor), ya !(vosotros)',\n",
       "       ' (al profesor), ya ! (ellos/ellas/ustedes)',\n",
       "       ' (al profesor), ya !(él/ella/usted)', ' (a su amiga a casa)',\n",
       "       ' (fruta)', ' (más fruta), ya !(nosotros)',\n",
       "       ' (más fruta), ya !(vosotros)',\n",
       "       ' (más fruta), ya ! (ellos/ellas/ustedes)',\n",
       "       ' (más fruta), ya !(él/ella/usted)', ' (seria)',\n",
       "       ' (dinero en la mesa)', ' (el dinero en la mesa), ya !(nosotros)',\n",
       "       ' (el dinero en la mesa), ya !(vosotros)',\n",
       "       ' (el dinero en la mesa), ya ! (ellos/ellas/ustedes)',\n",
       "       ' (el dinero en la mesa), ya !(él/ella/usted)', ' (serio)',\n",
       "       ' (mi éxito)', ' (las victorias del equipo)',\n",
       "       ' (el resultado), ya !(nosotros)',\n",
       "       ' (el resultado), ya !(vosotros)',\n",
       "       ' (el resultado), ya ! (ellos/ellas/ustedes)',\n",
       "       ' (el resultado), ya !(él/ella/usted)', ' (el éxito de Susana)',\n",
       "       ' (sonidos)', ' (anticuerpos)', ' (documentales)', ' (textos)',\n",
       "       ' (ruido), ya !(nosotros)', ' (ruido), ya !(vosotros)',\n",
       "       ' (ruido), ya ! (ellos/ellas/ustedes)',\n",
       "       ' (ruido), ya !(él/ella/usted)', ' (obras estupendas)',\n",
       "       ' (a los niños que entren)',\n",
       "       ' (el discurso bélico del presidente)',\n",
       "       ' (a los niños que griten)', ' (las teorías de Darwin)',\n",
       "       ' (ideas ajenas)', ' (a los niños que gritaran)',\n",
       "       ' (a los niños que griten), ya !(nosotros)',\n",
       "       ' (estas ideas), ya !(nosotros)',\n",
       "       ' (a los niños que griten), ya !(vosotros)',\n",
       "       ' (estas ideas), ya !(vosotros)',\n",
       "       ' (a los niños que griten), ya ! (ellos/ellas/ustedes)',\n",
       "       ' (estas ideas), ya ! (ellos/ellas/ustedes)',\n",
       "       ' (a los niños que griten), ya !(él/ella/usted)',\n",
       "       ' (estas ideas), ya !(él/ella/usted)', ' (las teorías de Alfonso)',\n",
       "       ' (la idea del viaje de su mente)',\n",
       "       ' (nociones descabelladas de la mente del niño)',\n",
       "       ' (esta noción descabellada de la mente del niño) !(nosotros)',\n",
       "       ' (esta noción descabellada de la mente del niño) !(vosotros)',\n",
       "       ' (esta noción descabellada de la mente del niño) ! (ellos/ellas/ustedes)',\n",
       "       ' (esta noción descabellada de la mente del niño) !(él/ella/usted)',\n",
       "       ' (el recuerdo del viaje de su memoria)', ' (a comer)',\n",
       "       ' (cualquier compromiso)', ' (cualquier compromiso) !(nosotros)',\n",
       "       ' (cualquier compromiso) !(vosotros)',\n",
       "       ' (cualquier compromiso) ! (ellos/ellas/ustedes)',\n",
       "       ' (cualquier compromiso) !(él/ella/usted)', ' (con sus colegas)',\n",
       "       ' (a los amigos)', ' (a los familiares), ya !(nosotros)',\n",
       "       ' (a los familiares), ya !(vosotros)',\n",
       "       ' (a los familiares), ya ! (ellos/ellas/ustedes)',\n",
       "       ' (a los familiares), ya !(él/ella/usted)',\n",
       "       ' (aprovechar su tiempo libre)', ' (de qué se trata)',\n",
       "       ' (de qué se trataba)', ' (qué hacer con su tiempo)',\n",
       "       ' (una serie)', ' (hablando)', ' (con ello), ya !(nosotros)',\n",
       "       ' (con ello), ya !(vosotros)',\n",
       "       ' (con ello), ya ! (ellos/ellas/ustedes)',\n",
       "       ' (con ello), ya !(él/ella/usted)', ' (esta serie)', ' (cansada)',\n",
       "       ' (cansado)', ' (los efectos del porro)', ' (orgullo)',\n",
       "       ' (remordimiento), ya !(nosotros)',\n",
       "       ' (remordimiento), ya !(vosotros)',\n",
       "       ' (remordimiento), ya ! (ellos/ellas/ustedes)',\n",
       "       ' (remordimiento), ya !(él/ella/usted)', ' (vigilada)',\n",
       "       ' (conscientes de ello)', ' (consciente de ello)',\n",
       "       ' (conscientes), ya !(nosotros)', ' (conscientes), ya !(vosotros)',\n",
       "       ' (conscientes), ya ! (ellos/ellas/ustedes)',\n",
       "       ' (consciente de ello), ya !(él/ella/usted)', ' (vigilado)',\n",
       "       ' (de fiestas)', ' (de la ciudad)', ' (dudas)', ' (razón)',\n",
       "       ' (ganas de salir)', ' (más respeto), ya !(nosotros)',\n",
       "       ' (más respeto), ya !(vosotros)',\n",
       "       ' (más respeto), ya ! (ellos/ellas/ustedes)',\n",
       "       ' (más respeto), ya !(él/ella/usted)', ' (de Cádiz)',\n",
       "       ' (a la ciudad)', ' (nuestra próxima destinación)',\n",
       "       ' (destinaciones exóticas)', ' (esta opción), ya !(nosotros)',\n",
       "       ' (esta opción), ya !(vosotros)',\n",
       "       ' (esta opción), ya ! (ellos/ellas/ustedes)',\n",
       "       ' (esta opción), ya !(él/ella/usted)', ' (una carrera)',\n",
       "       ' (dificultades)', ' (las voluntades de todos)',\n",
       "       ' (las voluntades de todos), ya !(nosotros)',\n",
       "       ' (las voluntades de todos), ya !(vosotros)',\n",
       "       ' (las voluntades de todos), ya ! (ellos/ellas/ustedes)',\n",
       "       ' (las voluntades de todos), ya !(él/ella/usted)',\n",
       "       ' (el equipo en torno a su propuesta)', ' (de mis apuntes)',\n",
       "       ' (poco para los jefes)', ' (lo que se espera), ya !(nosotros)',\n",
       "       ' (lo que se espera), ya !(vosotros)',\n",
       "       ' (lo que se espera), ya ! (ellos/ellas/ustedes)',\n",
       "       ' (lo que se espera), ya !(él/ella/usted)', ' (por aquí)',\n",
       "       ' (al asunto principal), ya !(nosotros)',\n",
       "       ' (al asunto principal), ya !(vosotros)',\n",
       "       ' (al asunto principal), ya ! (ellos/ellas/ustedes)',\n",
       "       ' (a La Laguna)', ' (a su amiga)', ' (a varios médicos)',\n",
       "       ' (a este médico), ya !(nosotros)',\n",
       "       ' (a este médico), ya !(vosotros)',\n",
       "       ' (a este médico), ya ! (ellos/ellas/ustedes)',\n",
       "       ' (a este médico), ya !(él/ella/usted)', ' (un sueño)',\n",
       "       ' (con poco)', ' (más intensamente), ya !(nosotros)',\n",
       "       ' (más intensamente), ya !(vosotros)',\n",
       "       ' (más intensamente), ya ! (ellos/ellas/ustedes)',\n",
       "       ' (más intensamente), ya !(él/ella/usted)',\n",
       "       ' (apoyar a Elena, y que se note) !(nosotros)',\n",
       "       ' (apoyar a Elena, y que se note) !(vosotros)',\n",
       "       ' (apoyar a Elena, y que se note) ! (ellos/ellas/ustedes)',\n",
       "       ' (apoyar a Elena, y que se note) !(él/ella/usted)'], dtype=object)"
      ]
     },
     "execution_count": 131,
     "metadata": {},
     "output_type": "execute_result"
    }
   ],
   "source": [
    "temp = df.loc[df.mood=='G']\n",
    "print(len(df.index))\n",
    "print(len(df.note2.unique()))\n",
    "df.note2.unique()\n",
    "# spanish_phrases += \n",
    "df.note2.unique()"
   ]
  },
  {
   "cell_type": "code",
   "execution_count": null,
   "id": "6e82ac43-4b58-425c-8a55-0e10edc2988a",
   "metadata": {},
   "outputs": [],
   "source": [
    "# translated spanish to cat. phrases to stick on the cards\n",
    "\n",
    "phrase_dict = {'Mientras estoy estudiando': 'A mesura que estic estudiant'"
   ]
  },
  {
   "cell_type": "code",
   "execution_count": 111,
   "id": "1e358601-7d99-45ec-ad9f-f3970949f6ac",
   "metadata": {},
   "outputs": [],
   "source": [
    "# take a look at shit\n",
    "df = df.sort_values(by=merge_cols)\n",
    "df.to_csv('temp.tsv', sep='\\t')"
   ]
  },
  {
   "cell_type": "code",
   "execution_count": 109,
   "id": "76879be7-131d-4fe7-b977-c20599e3c17c",
   "metadata": {},
   "outputs": [
    {
     "name": "stdout",
     "output_type": "stream",
     "text": [
      "65\n",
      "12\n"
     ]
    }
   ],
   "source": [
    "# temp = df.loc[df.mood=='G']\n",
    "# print(len(temp.index))\n",
    "# print(len(temp.note1.unique()))"
   ]
  },
  {
   "cell_type": "code",
   "execution_count": 110,
   "id": "730cda5b-3ec3-4e98-ac0d-018ee1e6086d",
   "metadata": {},
   "outputs": [
    {
     "data": {
      "text/plain": [
       "array(['Mientras estoy estudiando…ella está ',\n",
       "       'Mientras estoy estudiando…está ',\n",
       "       'Mientras estoy estudiando…ella me está ',\n",
       "       'Mientras estoy estudiando…ella se está ',\n",
       "       'Mientras estoy estudiando…ella no está ',\n",
       "       'Mientras estoy estudiando…el programa está ',\n",
       "       'Mientras estoy estudiando…él se está ',\n",
       "       'Mientras estoy estudiando…no está ',\n",
       "       'Mientras estoy estudiando…la pera está ',\n",
       "       'Mientras estoy estudiando…la comunidad se está ',\n",
       "       'Mientras estoy estudiando…la pitón está ',\n",
       "       'Mientras estoy estudiando…el público está '], dtype=object)"
      ]
     },
     "execution_count": 110,
     "metadata": {},
     "output_type": "execute_result"
    }
   ],
   "source": [
    "# temp.note1.unique()"
   ]
  },
  {
   "cell_type": "code",
   "execution_count": null,
   "id": "c3ea0d70-e066-4eb2-903c-04ff1d29a846",
   "metadata": {},
   "outputs": [],
   "source": [
    "## testing merge w/ cat conj. w/ fer"
   ]
  },
  {
   "cell_type": "code",
   "execution_count": 87,
   "id": "933f14a0-2398-4ad2-81d0-5b6b8e69c4ee",
   "metadata": {},
   "outputs": [],
   "source": [
    "# add the catalan conjugations\n",
    "cat_conj_df = pd.read_csv('fer_parsed.tsv', sep='\\t')\n"
   ]
  },
  {
   "cell_type": "code",
   "execution_count": 88,
   "id": "b2e14d72-f407-4915-81cc-6f0370118795",
   "metadata": {},
   "outputs": [],
   "source": [
    "# just hacer<->fer for now\n",
    "df = df.loc[df.inf_verb=='fer']"
   ]
  },
  {
   "cell_type": "code",
   "execution_count": 89,
   "id": "bace3efa-7e0b-4180-a4bb-c1204314e79a",
   "metadata": {},
   "outputs": [
    {
     "data": {
      "text/plain": [
       "41"
      ]
     },
     "execution_count": 89,
     "metadata": {},
     "output_type": "execute_result"
    }
   ],
   "source": [
    "len(df.index)"
   ]
  },
  {
   "cell_type": "code",
   "execution_count": 90,
   "id": "9ba6d28c-4d6a-48c1-ae89-22c2eff6f594",
   "metadata": {},
   "outputs": [
    {
     "name": "stdout",
     "output_type": "stream",
     "text": [
      "52\n"
     ]
    }
   ],
   "source": [
    "cat_conj_df.head()\n",
    "merge_cols = ['inf_verb','mood', 'tense', 'person',\n",
    "              'sing_or_plural', 'pos_neg_cmd']\n",
    "for c in merge_cols:\n",
    "    df[c] = df[c].astype(str)\n",
    "    cat_conj_df[c] = cat_conj_df[c].astype(str)\n",
    "df = df.merge(cat_conj_df, \n",
    "              how='left', \n",
    "              on=merge_cols)\n",
    "print(len(df.index))"
   ]
  },
  {
   "cell_type": "code",
   "execution_count": 91,
   "id": "d9f0d2ab-aa48-4876-8e05-b0c4560fddd1",
   "metadata": {},
   "outputs": [
    {
     "data": {
      "text/html": [
       "<div>\n",
       "<style scoped>\n",
       "    .dataframe tbody tr th:only-of-type {\n",
       "        vertical-align: middle;\n",
       "    }\n",
       "\n",
       "    .dataframe tbody tr th {\n",
       "        vertical-align: top;\n",
       "    }\n",
       "\n",
       "    .dataframe thead th {\n",
       "        text-align: right;\n",
       "    }\n",
       "</style>\n",
       "<table border=\"1\" class=\"dataframe\">\n",
       "  <thead>\n",
       "    <tr style=\"text-align: right;\">\n",
       "      <th></th>\n",
       "      <th>inf_verb</th>\n",
       "      <th>mood</th>\n",
       "      <th>tense</th>\n",
       "      <th>person</th>\n",
       "      <th>sing_or_plural</th>\n",
       "      <th>pos_neg_cmd</th>\n",
       "    </tr>\n",
       "  </thead>\n",
       "  <tbody>\n",
       "  </tbody>\n",
       "</table>\n",
       "</div>"
      ],
      "text/plain": [
       "Empty DataFrame\n",
       "Columns: [inf_verb, mood, tense, person, sing_or_plural, pos_neg_cmd]\n",
       "Index: []"
      ]
     },
     "execution_count": 91,
     "metadata": {},
     "output_type": "execute_result"
    }
   ],
   "source": [
    "df.loc[df.conj_verb.isnull()].head(2)[merge_cols]"
   ]
  },
  {
   "cell_type": "code",
   "execution_count": 93,
   "id": "56bb4af1-676c-469a-a989-1f7f1b0716ef",
   "metadata": {},
   "outputs": [
    {
     "data": {
      "text/html": [
       "<div>\n",
       "<style scoped>\n",
       "    .dataframe tbody tr th:only-of-type {\n",
       "        vertical-align: middle;\n",
       "    }\n",
       "\n",
       "    .dataframe tbody tr th {\n",
       "        vertical-align: top;\n",
       "    }\n",
       "\n",
       "    .dataframe thead th {\n",
       "        text-align: right;\n",
       "    }\n",
       "</style>\n",
       "<table border=\"1\" class=\"dataframe\">\n",
       "  <thead>\n",
       "    <tr style=\"text-align: right;\">\n",
       "      <th></th>\n",
       "      <th>note</th>\n",
       "      <th>tags</th>\n",
       "      <th>spanish_verb</th>\n",
       "      <th>inf_verb</th>\n",
       "      <th>person</th>\n",
       "      <th>sing_or_plural</th>\n",
       "      <th>mood</th>\n",
       "      <th>tense</th>\n",
       "      <th>pos_neg_cmd</th>\n",
       "      <th>conj_verb</th>\n",
       "      <th>code</th>\n",
       "      <th>region</th>\n",
       "      <th>gender</th>\n",
       "      <th>haver_verb</th>\n",
       "      <th>anar_verb</th>\n",
       "    </tr>\n",
       "  </thead>\n",
       "  <tbody>\n",
       "    <tr>\n",
       "      <th>0</th>\n",
       "      <td>Mientras estoy estudiando…ella está {{c1::haci...</td>\n",
       "      <td>ends_in_er extreme_irregularity gerundio hace...</td>\n",
       "      <td>hacer</td>\n",
       "      <td>fer</td>\n",
       "      <td>0</td>\n",
       "      <td>0</td>\n",
       "      <td>G</td>\n",
       "      <td>0</td>\n",
       "      <td>0</td>\n",
       "      <td>fent</td>\n",
       "      <td>VMG00000</td>\n",
       "      <td>central</td>\n",
       "      <td>0</td>\n",
       "      <td>NaN</td>\n",
       "      <td>NaN</td>\n",
       "    </tr>\n",
       "    <tr>\n",
       "      <th>1</th>\n",
       "      <td>Hugo ha {{c1::hecho::…hacer…}} (sus ejercicios...</td>\n",
       "      <td>ends_in_er extreme_irregularity hacer in_the_...</td>\n",
       "      <td>hacer</td>\n",
       "      <td>fer</td>\n",
       "      <td>0</td>\n",
       "      <td>S</td>\n",
       "      <td>P</td>\n",
       "      <td>0</td>\n",
       "      <td>0</td>\n",
       "      <td>fet</td>\n",
       "      <td>VMP00SM0</td>\n",
       "      <td>central</td>\n",
       "      <td>M</td>\n",
       "      <td>NaN</td>\n",
       "      <td>NaN</td>\n",
       "    </tr>\n",
       "    <tr>\n",
       "      <th>2</th>\n",
       "      <td>Hugo ha {{c1::hecho::…hacer…}} (sus ejercicios...</td>\n",
       "      <td>ends_in_er extreme_irregularity hacer in_the_...</td>\n",
       "      <td>hacer</td>\n",
       "      <td>fer</td>\n",
       "      <td>0</td>\n",
       "      <td>S</td>\n",
       "      <td>P</td>\n",
       "      <td>0</td>\n",
       "      <td>0</td>\n",
       "      <td>feta</td>\n",
       "      <td>VMP00SF0</td>\n",
       "      <td>central</td>\n",
       "      <td>F</td>\n",
       "      <td>NaN</td>\n",
       "      <td>NaN</td>\n",
       "    </tr>\n",
       "    <tr>\n",
       "      <th>3</th>\n",
       "      <td>⊙ Ahora mismo, ⊙yo {{c1::hago::…hacer…}} (past...</td>\n",
       "      <td>ends_in_er extreme_irregularity hacer irregul...</td>\n",
       "      <td>hacer</td>\n",
       "      <td>fer</td>\n",
       "      <td>1</td>\n",
       "      <td>S</td>\n",
       "      <td>I</td>\n",
       "      <td>P</td>\n",
       "      <td>0</td>\n",
       "      <td>faig</td>\n",
       "      <td>VMIP1S00</td>\n",
       "      <td>central</td>\n",
       "      <td>0</td>\n",
       "      <td>NaN</td>\n",
       "      <td>NaN</td>\n",
       "    </tr>\n",
       "    <tr>\n",
       "      <th>4</th>\n",
       "      <td>⊙ Ahora mismo, ⊙él/ella/usted {{c1::hace::…hac...</td>\n",
       "      <td>ends_in_er extreme_irregularity hacer in_the_...</td>\n",
       "      <td>hacer</td>\n",
       "      <td>fer</td>\n",
       "      <td>3</td>\n",
       "      <td>S</td>\n",
       "      <td>I</td>\n",
       "      <td>P</td>\n",
       "      <td>0</td>\n",
       "      <td>fa</td>\n",
       "      <td>VMIP3S00</td>\n",
       "      <td>central</td>\n",
       "      <td>0</td>\n",
       "      <td>NaN</td>\n",
       "      <td>NaN</td>\n",
       "    </tr>\n",
       "  </tbody>\n",
       "</table>\n",
       "</div>"
      ],
      "text/plain": [
       "                                                note  \\\n",
       "0  Mientras estoy estudiando…ella está {{c1::haci...   \n",
       "1  Hugo ha {{c1::hecho::…hacer…}} (sus ejercicios...   \n",
       "2  Hugo ha {{c1::hecho::…hacer…}} (sus ejercicios...   \n",
       "3  ⊙ Ahora mismo, ⊙yo {{c1::hago::…hacer…}} (past...   \n",
       "4  ⊙ Ahora mismo, ⊙él/ella/usted {{c1::hace::…hac...   \n",
       "\n",
       "                                                tags spanish_verb inf_verb  \\\n",
       "0   ends_in_er extreme_irregularity gerundio hace...        hacer      fer   \n",
       "1   ends_in_er extreme_irregularity hacer in_the_...        hacer      fer   \n",
       "2   ends_in_er extreme_irregularity hacer in_the_...        hacer      fer   \n",
       "3   ends_in_er extreme_irregularity hacer irregul...        hacer      fer   \n",
       "4   ends_in_er extreme_irregularity hacer in_the_...        hacer      fer   \n",
       "\n",
       "  person sing_or_plural mood tense pos_neg_cmd conj_verb      code   region  \\\n",
       "0      0              0    G     0           0      fent  VMG00000  central   \n",
       "1      0              S    P     0           0       fet  VMP00SM0  central   \n",
       "2      0              S    P     0           0      feta  VMP00SF0  central   \n",
       "3      1              S    I     P           0      faig  VMIP1S00  central   \n",
       "4      3              S    I     P           0        fa  VMIP3S00  central   \n",
       "\n",
       "  gender haver_verb anar_verb  \n",
       "0      0        NaN       NaN  \n",
       "1      M        NaN       NaN  \n",
       "2      F        NaN       NaN  \n",
       "3      0        NaN       NaN  \n",
       "4      0        NaN       NaN  "
      ]
     },
     "execution_count": 93,
     "metadata": {},
     "output_type": "execute_result"
    }
   ],
   "source": []
  },
  {
   "cell_type": "code",
   "execution_count": null,
   "id": "2d5cd1b2-cd46-4d64-879f-d78489deb5a8",
   "metadata": {},
   "outputs": [],
   "source": []
  },
  {
   "cell_type": "code",
   "execution_count": null,
   "id": "43a03777-a7ca-40f5-b45b-d5c046b09682",
   "metadata": {},
   "outputs": [],
   "source": []
  },
  {
   "cell_type": "code",
   "execution_count": null,
   "id": "b0b8399b-e566-4c4c-9849-688f08c8e2f1",
   "metadata": {},
   "outputs": [],
   "source": []
  },
  {
   "cell_type": "code",
   "execution_count": null,
   "id": "aae0f6d8-73e3-4dcb-b244-2291cd488c1b",
   "metadata": {},
   "outputs": [],
   "source": []
  },
  {
   "cell_type": "code",
   "execution_count": null,
   "id": "61583a47-d86c-4ec1-afa2-3ed71dc83779",
   "metadata": {},
   "outputs": [],
   "source": []
  },
  {
   "cell_type": "code",
   "execution_count": null,
   "id": "2cab582d-9a7c-4063-a7bc-3668dfaa51ec",
   "metadata": {},
   "outputs": [],
   "source": []
  },
  {
   "cell_type": "code",
   "execution_count": null,
   "id": "522314e8-20b8-4575-9bf8-4b94eeadc75a",
   "metadata": {},
   "outputs": [],
   "source": []
  },
  {
   "cell_type": "code",
   "execution_count": null,
   "id": "76fa08d9-27bb-42be-82f2-93342f94fc2b",
   "metadata": {},
   "outputs": [],
   "source": []
  }
 ],
 "metadata": {
  "kernelspec": {
   "display_name": "Python 3",
   "language": "python",
   "name": "python3"
  },
  "language_info": {
   "codemirror_mode": {
    "name": "ipython",
    "version": 3
   },
   "file_extension": ".py",
   "mimetype": "text/x-python",
   "name": "python",
   "nbconvert_exporter": "python",
   "pygments_lexer": "ipython3",
   "version": "3.7.12"
  }
 },
 "nbformat": 4,
 "nbformat_minor": 5
}
