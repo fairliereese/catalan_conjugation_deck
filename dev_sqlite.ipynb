{
 "cells": [
  {
   "cell_type": "code",
   "execution_count": 1,
   "id": "870ca9bf-ae47-42b6-827f-049b779b0522",
   "metadata": {},
   "outputs": [],
   "source": [
    "import sqlite3"
   ]
  },
  {
   "cell_type": "code",
   "execution_count": 2,
   "id": "ffddb66c-451a-4189-b47f-cc8c8e9f6232",
   "metadata": {},
   "outputs": [],
   "source": [
    "conn = sqlite3.connect('collection.anki21')\n",
    "cursor = conn.cursor()"
   ]
  },
  {
   "cell_type": "code",
   "execution_count": 19,
   "id": "ae00049d-f44e-4c56-ac04-4f25cd703495",
   "metadata": {},
   "outputs": [],
   "source": [
    "# first, just get all the verbs\n",
    "cursor.execute(\"SELECT sfld FROM notes\")\n",
    "rows = cursor.fetchall()\n",
    "notes = []\n",
    "verbs = []\n",
    "for row in rows:\n",
    "    # intro cards start with \"El verbo en....\"\n",
    "    # print()\n",
    "    # break\n",
    "    if row[0].startswith(\"El verbo en\"):\n",
    "        notes.append(row[0])\n",
    "        verbs.append(row[0].split('{{c1::')[1].split('}}')[0])\n",
    "        "
   ]
  },
  {
   "cell_type": "code",
   "execution_count": 16,
   "id": "69593b18-b7d0-4b06-a312-e0d312c4064e",
   "metadata": {},
   "outputs": [],
   "source": [
    "assert len(notes) == 72"
   ]
  },
  {
   "cell_type": "code",
   "execution_count": 17,
   "id": "dcad2833-d0e7-4d7a-9fc9-101c99efe299",
   "metadata": {},
   "outputs": [
    {
     "data": {
      "text/plain": [
       "['El verbo enél eses {{c1::ser}}',\n",
       " 'El verbo enél haes {{c1::haber}}',\n",
       " 'El verbo enél estáes {{c1::estar}}',\n",
       " 'El verbo enél hablaes {{c1::hablar}}',\n",
       " 'El verbo enél debees {{c1::deber}}']"
      ]
     },
     "execution_count": 17,
     "metadata": {},
     "output_type": "execute_result"
    }
   ],
   "source": [
    "notes[:5]"
   ]
  },
  {
   "cell_type": "code",
   "execution_count": 20,
   "id": "bc51f797-1595-4adb-b194-aa4536f856a9",
   "metadata": {},
   "outputs": [
    {
     "data": {
      "text/plain": [
       "['ser', 'haber', 'estar', 'hablar', 'deber']"
      ]
     },
     "execution_count": 20,
     "metadata": {},
     "output_type": "execute_result"
    }
   ],
   "source": [
    "verbs[:5]"
   ]
  },
  {
   "cell_type": "code",
   "execution_count": null,
   "id": "30d0fbea-366b-4d1b-bcc3-7df520dc5f11",
   "metadata": {},
   "outputs": [],
   "source": []
  }
 ],
 "metadata": {
  "kernelspec": {
   "display_name": "Python 3",
   "language": "python",
   "name": "python3"
  },
  "language_info": {
   "codemirror_mode": {
    "name": "ipython",
    "version": 3
   },
   "file_extension": ".py",
   "mimetype": "text/x-python",
   "name": "python",
   "nbconvert_exporter": "python",
   "pygments_lexer": "ipython3",
   "version": "3.7.12"
  }
 },
 "nbformat": 4,
 "nbformat_minor": 5
}
