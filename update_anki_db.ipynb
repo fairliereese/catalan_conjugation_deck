{
 "cells": [
  {
   "cell_type": "code",
   "execution_count": 1,
   "id": "ce6b629f-1d2f-4603-9d0c-87f401269932",
   "metadata": {},
   "outputs": [],
   "source": [
    "import sqlite3\n",
    "import pandas as pd"
   ]
  },
  {
   "cell_type": "code",
   "execution_count": 2,
   "id": "501a5a54-546e-4d50-a10d-4b8c1eb445e7",
   "metadata": {},
   "outputs": [],
   "source": [
    "# read the updated thing\n",
    "new_df = pd.read_csv('table_to_make_cards.csv', sep=',')\n",
    "new_df = new_df[['cast_note', 'cat_note', 'cat_tags']]\n",
    "n1 = len(new_df.index)"
   ]
  },
  {
   "cell_type": "code",
   "execution_count": 3,
   "id": "106534c5-49ae-4e43-b140-fc883c2881d7",
   "metadata": {},
   "outputs": [],
   "source": [
    "# Step 1: Connect to the SQLite database\n",
    "conn = sqlite3.connect('collection.anki21')\n",
    "cursor = conn.cursor()"
   ]
  },
  {
   "cell_type": "code",
   "execution_count": 4,
   "id": "672f2ed3-dce9-4af1-98a2-701d4fa9495d",
   "metadata": {},
   "outputs": [],
   "source": [
    "# Step 2: Read the table into a pandas DataFrame\n",
    "table_name = 'notes'  # Replace with your table name\n",
    "df = pd.read_sql_query(f\"SELECT * FROM {table_name}\", conn)\n",
    "\n",
    "df = df.merge(new_df, how='inner', \n",
    "              left_on='sfld', \n",
    "              right_on='cast_note')\n",
    "n2 = len(df.index)\n",
    "assert n1 == n2"
   ]
  },
  {
   "cell_type": "code",
   "execution_count": 5,
   "id": "c4e96077-735c-4534-bd38-a55a8655dc18",
   "metadata": {},
   "outputs": [],
   "source": [
    "# rename a couple of columns and remove the others\n",
    "df.drop(['cast_note', 'sfld', 'tags'], axis=1, inplace=True)\n",
    "df.rename({'cat_note': 'sfld',\n",
    "           'cat_tags': 'tags'},\n",
    "          axis=1, inplace=True)"
   ]
  },
  {
   "cell_type": "code",
   "execution_count": 6,
   "id": "6d510281-8c11-4d2e-9f29-eafc55d9e2d5",
   "metadata": {},
   "outputs": [],
   "source": [
    "# make all flds \"\"\n",
    "df['uuid'] = df['flds'].str.split(' ', expand=True)[0]\n",
    "df['flds'] = \"\""
   ]
  },
  {
   "cell_type": "code",
   "execution_count": 7,
   "id": "c7c7c5ca-0bbd-4d57-8caa-324789a60b0f",
   "metadata": {},
   "outputs": [],
   "source": [
    "df.to_csv('table_to_make_cards_2.csv', sep='|')\n",
    "df.head(1).to_csv('table_to_make_cards_2_test.csv', sep='|')"
   ]
  },
  {
   "cell_type": "code",
   "execution_count": 8,
   "id": "eb28957f-b789-4ab6-914d-57baad7c0110",
   "metadata": {},
   "outputs": [
    {
     "data": {
      "text/plain": [
       "Index(['id', 'guid', 'mid', 'mod', 'usn', 'flds', 'csum', 'flags', 'data',\n",
       "       'sfld', 'tags', 'uuid'],\n",
       "      dtype='object')"
      ]
     },
     "execution_count": 8,
     "metadata": {},
     "output_type": "execute_result"
    }
   ],
   "source": [
    "df.columns"
   ]
  },
  {
   "cell_type": "code",
   "execution_count": 9,
   "id": "dbaf158b-1e3b-4b35-a53f-859004d18b0c",
   "metadata": {},
   "outputs": [],
   "source": [
    "# # # Step 3: Modify the DataFrame\n",
    "# # # Example: Add a new column or make any modifications\n",
    "# # df['new_column'] = df['existing_column'] * 2  # Replace with your logic\n",
    "\n",
    "# # print(\"Modified table:\")\n",
    "# # print(df)\n",
    "\n",
    "# # Step 4: Replace the table in the database\n",
    "# # First, drop the existing table (if it exists)\n",
    "# cur = conn.cursor()\n",
    "# cur.execute(f\"DROP TABLE IF EXISTS {table_name}\")\n",
    "\n",
    "# # Then, write the modified DataFrame back to the database\n",
    "# df.to_sql(table_name, conn, index=False, if_exists='replace')  # Replace mode\n",
    "\n",
    "# # Step 5: Verify the changes (optional)\n",
    "# df_updated = pd.read_sql_query(f\"SELECT * FROM {table_name}\", conn)\n",
    "# print(\"Updated table in the database:\")\n",
    "# print(df_updated)\n",
    "\n",
    "# # Step 6: Close the database connection\n",
    "# conn.close()"
   ]
  },
  {
   "cell_type": "code",
   "execution_count": null,
   "id": "535d1706-8624-48be-bf81-e4a79c6561d9",
   "metadata": {},
   "outputs": [],
   "source": []
  }
 ],
 "metadata": {
  "kernelspec": {
   "display_name": "Python 3",
   "language": "python",
   "name": "python3"
  },
  "language_info": {
   "codemirror_mode": {
    "name": "ipython",
    "version": 3
   },
   "file_extension": ".py",
   "mimetype": "text/x-python",
   "name": "python",
   "nbconvert_exporter": "python",
   "pygments_lexer": "ipython3",
   "version": "3.7.12"
  }
 },
 "nbformat": 4,
 "nbformat_minor": 5
}
