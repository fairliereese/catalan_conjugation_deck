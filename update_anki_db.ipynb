{
 "cells": [
  {
   "cell_type": "code",
   "execution_count": 1,
   "id": "ce6b629f-1d2f-4603-9d0c-87f401269932",
   "metadata": {},
   "outputs": [],
   "source": [
    "import sqlite3\n",
    "import pandas as pd"
   ]
  },
  {
   "cell_type": "code",
   "execution_count": 2,
   "id": "501a5a54-546e-4d50-a10d-4b8c1eb445e7",
   "metadata": {},
   "outputs": [],
   "source": [
    "# read the updated thing\n",
    "new_df = pd.read_csv('table_to_make_cards.csv', sep=',')\n",
    "new_df = new_df[['cast_note', 'cat_note', 'cat_tags']]\n",
    "n1 = len(new_df.index)"
   ]
  },
  {
   "cell_type": "code",
   "execution_count": 3,
   "id": "106534c5-49ae-4e43-b140-fc883c2881d7",
   "metadata": {},
   "outputs": [],
   "source": [
    "# Step 1: Connect to the SQLite database\n",
    "conn = sqlite3.connect('collection.anki21')\n",
    "cursor = conn.cursor()"
   ]
  },
  {
   "cell_type": "code",
   "execution_count": 4,
   "id": "672f2ed3-dce9-4af1-98a2-701d4fa9495d",
   "metadata": {},
   "outputs": [],
   "source": [
    "# Step 2: Read the table into a pandas DataFrame\n",
    "table_name = 'notes'  # Replace with your table name\n",
    "df = pd.read_sql_query(f\"SELECT * FROM {table_name}\", conn)\n",
    "\n",
    "df = df.merge(new_df, how='inner', \n",
    "              left_on='sfld', \n",
    "              right_on='cast_note')\n",
    "n2 = len(df.index)\n",
    "assert n1 == n2"
   ]
  },
  {
   "cell_type": "code",
   "execution_count": 5,
   "id": "c4e96077-735c-4534-bd38-a55a8655dc18",
   "metadata": {},
   "outputs": [],
   "source": [
    "# rename a couple of columns and remove the others\n",
    "df.drop(['cast_note', 'sfld', 'tags'], axis=1, inplace=True)\n",
    "df.rename({'cat_note': 'sfld',\n",
    "           'cat_tags': 'tags'},\n",
    "          axis=1, inplace=True)"
   ]
  },
  {
   "cell_type": "code",
   "execution_count": 6,
   "id": "6d510281-8c11-4d2e-9f29-eafc55d9e2d5",
   "metadata": {},
   "outputs": [],
   "source": [
    "# make all flds \"\"\n",
    "df['uuid'] = df['flds'].str.split(' ', expand=True)[0]\n",
    "df['flds'] = \"\""
   ]
  },
  {
   "cell_type": "code",
   "execution_count": 10,
   "id": "c7c7c5ca-0bbd-4d57-8caa-324789a60b0f",
   "metadata": {},
   "outputs": [],
   "source": [
    "df.to_csv('table_to_make_cards_2.csv', sep='|')\n",
    "df.head(1).to_csv('table_to_make_cards_2_test.csv', sep='|')"
   ]
  },
  {
   "cell_type": "code",
   "execution_count": 8,
   "id": "eb28957f-b789-4ab6-914d-57baad7c0110",
   "metadata": {},
   "outputs": [
    {
     "data": {
      "text/plain": [
       "Index(['id', 'guid', 'mid', 'mod', 'usn', 'flds', 'csum', 'flags', 'data',\n",
       "       'sfld', 'tags', 'uuid'],\n",
       "      dtype='object')"
      ]
     },
     "execution_count": 8,
     "metadata": {},
     "output_type": "execute_result"
    }
   ],
   "source": [
    "df.columns"
   ]
  },
  {
   "cell_type": "code",
   "execution_count": 9,
   "id": "dbaf158b-1e3b-4b35-a53f-859004d18b0c",
   "metadata": {},
   "outputs": [
    {
     "name": "stdout",
     "output_type": "stream",
     "text": [
      "Updated table in the database:\n",
      "                 id        guid            mid         mod  usn flds  \\\n",
      "0     1599309962954  t1||z{8OP4  1596992551063  1599310148    0        \n",
      "1     1599309962955  PhbeK,#2h}  1596992551063  1599309962    0        \n",
      "2     1599309962956  m05T}gc0C;  1596992551063  1599309962    0        \n",
      "3     1599309962957   |wzu@j5%J  1596992551063  1599309962    0        \n",
      "4     1599309962959  F(KURcB8Xf  1596992551063  1599309962    0        \n",
      "...             ...         ...            ...         ...  ...  ...   \n",
      "2781  1599309967179  k8%N~;6SBK  1596992551063  1599309963    0        \n",
      "2782  1599309967182  NV-TtTh<UU  1596992551063  1599309963    0        \n",
      "2783  1599309967183  QSpm$`>:+r  1596992551063  1599309963    0        \n",
      "2784  1599309967184  r8cXLGlsvj  1596992551063  1599309963    0        \n",
      "2785  1599309967185  lP{Uu4aLm1  1596992551063  1599309963    0        \n",
      "\n",
      "            csum  flags data  \\\n",
      "0     4184801480      0        \n",
      "1      851395593      0        \n",
      "2      371250322      0        \n",
      "3     4031152435      0        \n",
      "4     3358392039      0        \n",
      "...          ...    ...  ...   \n",
      "2781  2153206576      0        \n",
      "2782  3149170364      0        \n",
      "2783  2677542700      0        \n",
      "2784  3284470531      0        \n",
      "2785  1363705370      0        \n",
      "\n",
      "                                                   sfld  \\\n",
      "0     A mesura que estic estudiant…ella està {{c1::s...   \n",
      "1                Hugo ha {{c1::sigut::…ser…}} (vigilat)   \n",
      "2     ⊙ Ara mateix, ⊙jo {{c1::soc::…ser…}} (conscien...   \n",
      "3     ⊙ Ara mateix, ⊙tu {{c1::ets::…ser…}} (conscien...   \n",
      "4     ⊙ Ara mateix, ⊙ell/ella/vostè {{c1::és::…ser…}...   \n",
      "...                                                 ...   \n",
      "2781  Hombre, si us plau,  {{c1::europeïtza::…europe...   \n",
      "2782  Senjora, si us plau,  (que) {{c1::europeïtzi::...   \n",
      "2783  Vosaltres equip, si us plau,  (que) {{c1::euro...   \n",
      "2784  Tu i tu, si us plau,  {{c1::europeïtzeu::…euro...   \n",
      "2785  Senjors, si us plau,  (que) {{c1::europeïtzin:...   \n",
      "\n",
      "                                               tags  \\\n",
      "0                                  gerundi -er ser    \n",
      "1                                participi -er ser    \n",
      "2                     present indicatiu -er jo ser    \n",
      "3                     present indicatiu -er tu ser    \n",
      "4         present indicatiu -er ell/ella/vostè ser    \n",
      "...                                             ...   \n",
      "2781                  imperatiu -ar tu europeïtzar    \n",
      "2782      imperatiu -ar ell/ella/vostè europeïtzar    \n",
      "2783           imperatiu -ar nosaltres europeïtzar    \n",
      "2784           imperatiu -ar vosaltres europeïtzar    \n",
      "2785   imperatiu -ar ells/elles/vostès europeïtzar    \n",
      "\n",
      "                                               uuid  \n",
      "0     28974bf1-890e-41fa-bd73-45a7abdfa4cf\u001fMientras  \n",
      "1         07240d22-3470-46fc-8277-3523d9742561\u001fHugo  \n",
      "2            610fe216-7c31-414b-91fb-19192740ded1\u001f⊙  \n",
      "3            1c3512c1-80fd-4880-852d-6fa175344917\u001f⊙  \n",
      "4            0384bd45-6879-4e7f-ab34-cbe93e87ebb5\u001f⊙  \n",
      "...                                             ...  \n",
      "2781   f1bec9ed-4984-46be-b188-05ba817c75d5\u001fHombre,  \n",
      "2782   308edb30-3743-48b4-860d-1c25f21c6583\u001fSeñora,  \n",
      "2783   91e6404e-557b-4e04-80db-3df22b1204a6\u001fVámonos  \n",
      "2784        07ba3607-0e1c-4b18-84e9-1bc0211c8266\u001fTú  \n",
      "2785  7828b4c2-40b3-4708-8a87-22fede60cb8c\u001fSeñores,  \n",
      "\n",
      "[2786 rows x 12 columns]\n"
     ]
    }
   ],
   "source": [
    "# # Step 3: Modify the DataFrame\n",
    "# # Example: Add a new column or make any modifications\n",
    "# df['new_column'] = df['existing_column'] * 2  # Replace with your logic\n",
    "\n",
    "# print(\"Modified table:\")\n",
    "# print(df)\n",
    "\n",
    "# Step 4: Replace the table in the database\n",
    "# First, drop the existing table (if it exists)\n",
    "cur = conn.cursor()\n",
    "cur.execute(f\"DROP TABLE IF EXISTS {table_name}\")\n",
    "\n",
    "# Then, write the modified DataFrame back to the database\n",
    "df.to_sql(table_name, conn, index=False, if_exists='replace')  # Replace mode\n",
    "\n",
    "# Step 5: Verify the changes (optional)\n",
    "df_updated = pd.read_sql_query(f\"SELECT * FROM {table_name}\", conn)\n",
    "print(\"Updated table in the database:\")\n",
    "print(df_updated)\n",
    "\n",
    "# Step 6: Close the database connection\n",
    "conn.close()"
   ]
  },
  {
   "cell_type": "code",
   "execution_count": null,
   "id": "535d1706-8624-48be-bf81-e4a79c6561d9",
   "metadata": {},
   "outputs": [],
   "source": []
  }
 ],
 "metadata": {
  "kernelspec": {
   "display_name": "Python 3",
   "language": "python",
   "name": "python3"
  },
  "language_info": {
   "codemirror_mode": {
    "name": "ipython",
    "version": 3
   },
   "file_extension": ".py",
   "mimetype": "text/x-python",
   "name": "python",
   "nbconvert_exporter": "python",
   "pygments_lexer": "ipython3",
   "version": "3.7.12"
  }
 },
 "nbformat": 4,
 "nbformat_minor": 5
}
